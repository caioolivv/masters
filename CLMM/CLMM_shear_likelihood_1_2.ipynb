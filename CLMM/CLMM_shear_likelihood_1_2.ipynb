{
 "cells": [
  {
   "cell_type": "markdown",
   "metadata": {},
   "source": [
    "# Shear Likelihood 1.2"
   ]
  },
  {
   "cell_type": "markdown",
   "metadata": {},
   "source": [
    "### Preparing necessary libraries"
   ]
  },
  {
   "cell_type": "code",
   "execution_count": null,
   "metadata": {},
   "outputs": [],
   "source": [
    "import os\n",
    "import sys\n",
    "import gi\n",
    "\n",
    "gi.require_version('NumCosmo', '1.0')\n",
    "gi.require_version('NumCosmoMath', '1.0')\n",
    "from gi.repository import GObject\n",
    "from gi.repository import NumCosmo as Nc\n",
    "from gi.repository import NumCosmoMath as Ncm\n",
    "\n",
    "os.environ['CLMM_MODELING_BACKEND'] = 'nc'\n",
    "\n",
    "__name__ = \"NcContext\"\n",
    "\n",
    "Ncm.cfg_init ()\n",
    "Ncm.cfg_set_log_handler (lambda msg: sys.stdout.write (msg) and sys.stdout.flush ())\n",
    "\n",
    "try: import clmm\n",
    "except:\n",
    "    import notebook_install\n",
    "    notebook_install.install_clmm_pipeline(upgrade=False)\n",
    "    import clmm\n",
    "import matplotlib.pyplot as plt\n",
    "import numpy as np\n",
    "import time\n",
    "from datetime import timedelta\n",
    "from astropy import units\n",
    "from numpy import random\n",
    "plt.rcParams['font.family']=['gothambook','gotham','gotham-book','serif']\n",
    "\n",
    "import clmm.dataops as da\n",
    "import clmm.galaxycluster as gc\n",
    "import clmm.theory as theory\n",
    "from clmm import Cosmology\n",
    "from clmm.support import mock_data as mock\n",
    "from clmm.utils import convert_units\n",
    "from scipy.stats import kstest"
   ]
  },
  {
   "cell_type": "markdown",
   "metadata": {},
   "source": [
    "### Calculating Likelihood"
   ]
  },
  {
   "cell_type": "markdown",
   "metadata": {},
   "source": [
    "The measured shear $g^i_t$ is given by \n",
    "\n",
    "$$ g^i_t = g^{I,i}_t + g^{L,i}_t $$\n",
    "\n",
    "where $g^{I,i}_t$ is the intrisic shear and $g^{L,i}_t$ is the lensing shear. Assuming that the intrinsic shear is drawn from a normal distribution with average 0 and variance $\\sigma_{g^I_t}^2$, the probability of measuring $g^i_t$, given a certain $r$, $z$ and other cosmological parameters $\\vec{\\theta_c}$ is given by\n",
    "\n",
    "$$ P(g^i_t | r, z, \\vec{\\theta_c}) = \\frac{1}{\\sqrt{2\\pi}\\sigma_{g^I_t}} \\exp\\left[\\frac{-(g^i_t - g^{L,i}_t(r,z,\\vec{\\theta_c}))^2}{2\\sigma_{g^I_t}^2}\\right] $$\n",
    "Then, to find the likelihood of the set of all $\\{g^i_t\\}_i^{N}$ measured, we perform the following integral for all $g^i_t$:\n",
    "\n",
    "$$ P(g^i_t | \\vec{\\theta_c}) = \\int_0^{r_{max}} \\int_{z_{cluster}}^{\\infty} \\mathcal{d}r \\mathcal{d}z P(g^i_t | r, z, \\vec{\\theta_c}) P(r) P(z) $$\n",
    "\n",
    "where $P(r)$ and $P(z)$ are the distributions for $r$ and $z$.\n",
    "\n",
    "This is a computationally expensive process though. To avoid it, we bin the data. We then have to perform the same integrals, but for each bin and each shear $g^i_t$ in the bin. At this moment we'll choose to not calculate them, and instead use an estimator for the probability\n",
    "\n",
    "$$ \\tilde{P}(g^i_t | \\vec{\\theta_c}) = \\frac{1}{N_i} \\sum_j^{N_i} P(g^i_t | r_j, z_j, \\vec{\\theta_c}) $$\n",
    "\n",
    "where $N_i$ is the number of galaxies in the bin. The bin likelihood is then\n",
    "\n",
    "$$ \\mathcal{L}_i = \\prod_j^{N_i} \\tilde{P}(g^j_t | \\vec{\\theta_c}) $$\n",
    "\n",
    "and the total likelihood is \n",
    "\n",
    "$$ \\mathcal{L} = \\prod_i^M \\mathcal{L}_i = \\prod_i^M \\prod_j^{N_i} \\tilde{P}(g^j_t | \\vec{\\theta_c}) =  \\prod_i^M \\prod_j^{N_i} \\left[ \\frac{1}{N_i} \\sum_k^{N_i} P(g^j_t | r_k, z_k, \\vec{\\theta_c}) \\right]  $$"
   ]
  },
  {
   "cell_type": "code",
   "execution_count": null,
   "metadata": {},
   "outputs": [],
   "source": [
    "def shear_probability(gt_obs, gt_th, sigma):\n",
    "\n",
    "    return np.exp(-np.power(np.subtract(gt_obs, gt_th), 2)/2/sigma**2)/np.sqrt(2*np.pi)/sigma"
   ]
  },
  {
   "cell_type": "code",
   "execution_count": null,
   "metadata": {},
   "outputs": [],
   "source": [
    "def shear_log_likelihood(logm, gc, radius, shapenoise, cosmo, concentration=4, delta=200, model='nfw'):\n",
    "\n",
    "    n_bins     = len(gc.profile)\n",
    "    cluster_z  = gc.z\n",
    "    m          = float(10.**logm)\n",
    "\n",
    "    gal_z      = gc.galcat['z']\n",
    "    gt_th      = clmm.compute_reduced_tangential_shear(radius, m, concentration, cluster_z, gal_z, cosmo, delta_mdef=200, halo_profile_model=model)\n",
    "    gt_obs     = gc.galcat['et']\n",
    "\n",
    "    likelihood = 0\n",
    "\n",
    "    for i in range(n_bins):\n",
    "\n",
    "        gals_bin    = gc.profile['gal_id'][i]\n",
    "        gt_th_bin   = [gt_th[gal_id] for gal_id in gals_bin]\n",
    "        gt_obs_bin  = [gt_obs[gal_id] for gal_id in gals_bin]\n",
    "\n",
    "        for gt in gt_obs_bin:\n",
    "\n",
    "            gt_prob = np.mean(shear_probability(gt, gt_th_bin, shapenoise))\n",
    "            if gt_prob != 0:\n",
    "                likelihood += np.log(gt_prob)\n",
    "\n",
    "    return -2*likelihood"
   ]
  },
  {
   "cell_type": "code",
   "execution_count": null,
   "metadata": {},
   "outputs": [],
   "source": [
    "np.random.seed(0)\n",
    "\n",
    "# Define cosmological parameters\n",
    "cosmo = Cosmology(H0 = 70.0, Omega_dm0 = 0.27 - 0.045, Omega_b0 = 0.045, Omega_k0 = 0.0)\n",
    "    \n",
    "cluster_m     = 1.e15 # Cluster mass\n",
    "cluster_z     = 0.4   # Cluster redshift\n",
    "concentration = 4     # Concentrion parameter NFW profile\n",
    "ngals         = 10000 # Number of galaxies\n",
    "Delta         = 200   # Overdensity parameter definition NFW profile\n",
    "cluster_ra    = 0.0   # Cluster right ascension\n",
    "cluster_dec   = 0.0   # Cluster declination\n",
    "shapenoise    = 1e-3 # True ellipticity standard variation\n",
    "\n",
    "# Create galaxy catalog and Cluster object\n",
    "data = mock.generate_galaxy_catalog(cluster_m, cluster_z, concentration, cosmo, \"chang13\", zsrc_min = cluster_z + 0.2, shapenoise=shapenoise, photoz_sigma_unscaled=0.05, ngals=ngals, cluster_ra=cluster_ra, cluster_dec=cluster_dec)\n",
    "gc = clmm.GalaxyCluster(\"CL_noisy_z\", cluster_ra, cluster_dec, cluster_z, data)\n",
    "\n",
    "gc.compute_tangential_and_cross_components(geometry=\"flat\")\n",
    "radius = convert_units(gc.galcat['theta'], 'radians', 'Mpc', redshift=gc.z, cosmo=cosmo)\n",
    "\n",
    "# Create binning profile por binned methods\n",
    "bin_edges = da.make_bins(0.7, 4, 50)\n",
    "profile = gc.make_radial_profile(\"Mpc\", bins=bin_edges,cosmo=cosmo, gal_ids_in_bins=True)"
   ]
  },
  {
   "cell_type": "code",
   "execution_count": null,
   "metadata": {},
   "outputs": [],
   "source": [
    "from clmm.support.sampler import samplers\n",
    "\n",
    "# radius = convert_units(gc_noisy_z.galcat['theta'], 'radians', 'Mpc', redshift=gc_noisy_z.z, cosmo=cosmo)\n",
    "logm_0 = random.uniform(13., 17., 1)[0]\n",
    "\n",
    "logm_est = samplers['basinhopping'](shear_log_likelihood, logm_0, minimizer_kwargs={'args':(gc, radius, shapenoise, cosmo)})\n",
    "\n",
    "print(logm_est)"
   ]
  },
  {
   "cell_type": "code",
   "execution_count": null,
   "metadata": {},
   "outputs": [],
   "source": [
    "np.random.seed(0)\n",
    "\n",
    "# Define cosmological parameters\n",
    "cosmo = Cosmology(H0 = 70.0, Omega_dm0 = 0.27 - 0.045, Omega_b0 = 0.045, Omega_k0 = 0.0)\n",
    "    \n",
    "cluster_m     = 1.e15 # Cluster mass\n",
    "cluster_z     = 0.4   # Cluster redshift\n",
    "concentration = 4     # Concentrion parameter NFW profile\n",
    "ngals         = 10000 # Number of galaxies\n",
    "Delta         = 200   # Overdensity parameter definition NFW profile\n",
    "cluster_ra    = 0.0   # Cluster right ascension\n",
    "cluster_dec   = 0.0   # Cluster declination\n",
    "shapenoise    = 1e-2 # True ellipticity standard variation\n",
    "\n",
    "# Create galaxy catalog and Cluster object\n",
    "data = mock.generate_galaxy_catalog(cluster_m, cluster_z, concentration, cosmo, \"chang13\", zsrc_min = cluster_z + 0.2, shapenoise=shapenoise, photoz_sigma_unscaled=0.05, ngals=ngals, cluster_ra=cluster_ra, cluster_dec=cluster_dec)\n",
    "gc = clmm.GalaxyCluster(\"CL_noisy_z\", cluster_ra, cluster_dec, cluster_z, data)\n",
    "\n",
    "gc.compute_tangential_and_cross_components(geometry=\"flat\")\n",
    "radius = convert_units(gc.galcat['theta'], 'radians', 'Mpc', redshift=gc.z, cosmo=cosmo)\n",
    "\n",
    "# Create binning profile por binned methods\n",
    "bin_edges = da.make_bins(0.7, 4, 50)\n",
    "profile = gc.make_radial_profile(\"Mpc\", bins=bin_edges,cosmo=cosmo, gal_ids_in_bins=True)"
   ]
  },
  {
   "cell_type": "code",
   "execution_count": null,
   "metadata": {},
   "outputs": [],
   "source": [
    "from clmm.support.sampler import samplers\n",
    "\n",
    "# radius = convert_units(gc_noisy_z.galcat['theta'], 'radians', 'Mpc', redshift=gc_noisy_z.z, cosmo=cosmo)\n",
    "logm_0 = random.uniform(13., 17., 1)[0]\n",
    "\n",
    "logm_est = samplers['basinhopping'](shear_log_likelihood, logm_0, minimizer_kwargs={'args':(gc, radius, shapenoise, cosmo)})\n",
    "\n",
    "print(logm_est)"
   ]
  },
  {
   "cell_type": "code",
   "execution_count": null,
   "metadata": {},
   "outputs": [],
   "source": [
    "np.random.seed(0)\n",
    "\n",
    "# Define cosmological parameters\n",
    "cosmo = Cosmology(H0 = 70.0, Omega_dm0 = 0.27 - 0.045, Omega_b0 = 0.045, Omega_k0 = 0.0)\n",
    "    \n",
    "cluster_m     = 1.e15 # Cluster mass\n",
    "cluster_z     = 0.4   # Cluster redshift\n",
    "concentration = 4     # Concentrion parameter NFW profile\n",
    "ngals         = 10000 # Number of galaxies\n",
    "Delta         = 200   # Overdensity parameter definition NFW profile\n",
    "cluster_ra    = 0.0   # Cluster right ascension\n",
    "cluster_dec   = 0.0   # Cluster declination\n",
    "shapenoise    = 1e-1 # True ellipticity standard variation\n",
    "\n",
    "# Create galaxy catalog and Cluster object\n",
    "data = mock.generate_galaxy_catalog(cluster_m, cluster_z, concentration, cosmo, \"chang13\", zsrc_min = cluster_z + 0.2, shapenoise=shapenoise, photoz_sigma_unscaled=0.05, ngals=ngals, cluster_ra=cluster_ra, cluster_dec=cluster_dec)\n",
    "gc = clmm.GalaxyCluster(\"CL_noisy_z\", cluster_ra, cluster_dec, cluster_z, data)\n",
    "\n",
    "gc.compute_tangential_and_cross_components(geometry=\"flat\")\n",
    "radius = convert_units(gc.galcat['theta'], 'radians', 'Mpc', redshift=gc.z, cosmo=cosmo)\n",
    "\n",
    "# Create binning profile por binned methods\n",
    "bin_edges = da.make_bins(0.7, 4, 50)\n",
    "profile = gc.make_radial_profile(\"Mpc\", bins=bin_edges,cosmo=cosmo, gal_ids_in_bins=True)"
   ]
  },
  {
   "cell_type": "code",
   "execution_count": null,
   "metadata": {},
   "outputs": [],
   "source": [
    "from clmm.support.sampler import samplers\n",
    "\n",
    "# radius = convert_units(gc_noisy_z.galcat['theta'], 'radians', 'Mpc', redshift=gc_noisy_z.z, cosmo=cosmo)\n",
    "logm_0 = random.uniform(13., 17., 1)[0]\n",
    "\n",
    "logm_est = samplers['basinhopping'](shear_log_likelihood, logm_0, minimizer_kwargs={'args':(gc, radius, shapenoise, cosmo)})\n",
    "\n",
    "print(logm_est)"
   ]
  },
  {
   "cell_type": "code",
   "execution_count": null,
   "metadata": {},
   "outputs": [],
   "source": [
    "np.random.seed(0)\n",
    "\n",
    "# Define cosmological parameters\n",
    "cosmo = Cosmology(H0 = 70.0, Omega_dm0 = 0.27 - 0.045, Omega_b0 = 0.045, Omega_k0 = 0.0)\n",
    "    \n",
    "cluster_m     = 1.e15 # Cluster mass\n",
    "cluster_z     = 0.4   # Cluster redshift\n",
    "concentration = 4     # Concentrion parameter NFW profile\n",
    "ngals         = 10000 # Number of galaxies\n",
    "Delta         = 200   # Overdensity parameter definition NFW profile\n",
    "cluster_ra    = 0.0   # Cluster right ascension\n",
    "cluster_dec   = 0.0   # Cluster declination\n",
    "shapenoise    = 1 # True ellipticity standard variation\n",
    "\n",
    "# Create galaxy catalog and Cluster object\n",
    "data = mock.generate_galaxy_catalog(cluster_m, cluster_z, concentration, cosmo, \"chang13\", zsrc_min = cluster_z + 0.2, shapenoise=shapenoise, photoz_sigma_unscaled=0.05, ngals=ngals, cluster_ra=cluster_ra, cluster_dec=cluster_dec)\n",
    "gc = clmm.GalaxyCluster(\"CL_noisy_z\", cluster_ra, cluster_dec, cluster_z, data)\n",
    "\n",
    "gc.compute_tangential_and_cross_components(geometry=\"flat\")\n",
    "radius = convert_units(gc.galcat['theta'], 'radians', 'Mpc', redshift=gc.z, cosmo=cosmo)\n",
    "\n",
    "# Create binning profile por binned methods\n",
    "bin_edges = da.make_bins(0.7, 4, 50)\n",
    "profile = gc.make_radial_profile(\"Mpc\", bins=bin_edges,cosmo=cosmo, gal_ids_in_bins=True)"
   ]
  },
  {
   "cell_type": "code",
   "execution_count": null,
   "metadata": {},
   "outputs": [],
   "source": [
    "from clmm.support.sampler import samplers\n",
    "\n",
    "# radius = convert_units(gc_noisy_z.galcat['theta'], 'radians', 'Mpc', redshift=gc_noisy_z.z, cosmo=cosmo)\n",
    "logm_0 = random.uniform(13., 17., 1)[0]\n",
    "\n",
    "logm_est = samplers['basinhopping'](shear_log_likelihood, logm_0, minimizer_kwargs={'args':(gc, radius, shapenoise, cosmo)})\n",
    "\n",
    "print(logm_est)"
   ]
  }
 ],
 "metadata": {
  "kernelspec": {
   "display_name": "Python 3.10.5 64-bit",
   "language": "python",
   "name": "python3"
  },
  "language_info": {
   "codemirror_mode": {
    "name": "ipython",
    "version": 3
   },
   "file_extension": ".py",
   "mimetype": "text/x-python",
   "name": "python",
   "nbconvert_exporter": "python",
   "pygments_lexer": "ipython3",
   "version": "3.10.7"
  },
  "orig_nbformat": 4,
  "vscode": {
   "interpreter": {
    "hash": "e7370f93d1d0cde622a1f8e1c04877d8463912d04d973331ad4851f04de6915a"
   }
  }
 },
 "nbformat": 4,
 "nbformat_minor": 2
}
