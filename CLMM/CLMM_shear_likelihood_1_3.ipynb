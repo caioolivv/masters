{
 "cells": [
  {
   "cell_type": "markdown",
   "metadata": {},
   "source": [
    "# Shear Likelihood 1.3"
   ]
  },
  {
   "cell_type": "markdown",
   "metadata": {},
   "source": [
    "### Preparing necessary libraries"
   ]
  },
  {
   "cell_type": "code",
   "execution_count": 1,
   "metadata": {},
   "outputs": [],
   "source": [
    "import os\n",
    "import sys\n",
    "import gi\n",
    "\n",
    "gi.require_version('NumCosmo', '1.0')\n",
    "gi.require_version('NumCosmoMath', '1.0')\n",
    "from gi.repository import GObject\n",
    "from gi.repository import NumCosmo as Nc\n",
    "from gi.repository import NumCosmoMath as Ncm\n",
    "\n",
    "os.environ['CLMM_MODELING_BACKEND'] = 'nc'\n",
    "\n",
    "__name__ = \"NcContext\"\n",
    "\n",
    "Ncm.cfg_init ()\n",
    "Ncm.cfg_set_log_handler (lambda msg: sys.stdout.write (msg) and sys.stdout.flush ())\n",
    "\n",
    "try: import clmm\n",
    "except:\n",
    "    import notebook_install\n",
    "    notebook_install.install_clmm_pipeline(upgrade=False)\n",
    "    import clmm\n",
    "import matplotlib.pyplot as plt\n",
    "import numpy as np\n",
    "from astropy import units\n",
    "from numpy import random\n",
    "plt.rcParams['font.family']=['gothambook','gotham','gotham-book','serif']\n",
    "\n",
    "import clmm.dataops as da\n",
    "import clmm.galaxycluster as gc\n",
    "import clmm.theory as theory\n",
    "from clmm import Cosmology\n",
    "from clmm.support import mock_data as mock\n",
    "from clmm.utils import convert_units"
   ]
  },
  {
   "cell_type": "markdown",
   "metadata": {},
   "source": [
    "### Creating mock data"
   ]
  },
  {
   "cell_type": "code",
   "execution_count": 2,
   "metadata": {},
   "outputs": [],
   "source": [
    "np.random.seed(11)\n",
    "\n",
    "cosmo = Cosmology(H0 = 70.0, Omega_dm0 = 0.27 - 0.045, Omega_b0 = 0.045, Omega_k0 = 0.0)\n",
    "\n",
    "cluster_m     = 1.e15\n",
    "logm = np.log(cluster_m)/np.log(10)\n",
    "cluster_z     = 0.4\n",
    "concentration = 4\n",
    "ngals         = 10000\n",
    "Delta         = 200\n",
    "cluster_ra    = 0.0\n",
    "cluster_dec   = 0.0\n",
    "shapenoise    = 1e-3\n",
    "\n",
    "ideal_data   = mock.generate_galaxy_catalog(cluster_m, cluster_z, concentration, cosmo, 0.8, zsrc_min = cluster_z + 0.1, shapenoise=shapenoise, ngals=ngals, cluster_ra=cluster_ra, cluster_dec=cluster_dec)\n",
    "ideal_data_z = mock.generate_galaxy_catalog(cluster_m, cluster_z, concentration, cosmo,'chang13', zsrc_min = cluster_z + 0.1, shapenoise=shapenoise, ngals=ngals, cluster_ra=cluster_ra, cluster_dec=cluster_dec)\n",
    "noisy_data_z = mock.generate_galaxy_catalog(cluster_m, cluster_z, concentration, cosmo, 'chang13', zsrc_min = cluster_z + 0.1, shapenoise=shapenoise, photoz_sigma_unscaled=0.05, ngals=ngals, cluster_ra=cluster_ra, cluster_dec=cluster_dec)\n",
    "\n",
    "gc_ideal   = clmm.GalaxyCluster(\"CL_ideal\", cluster_ra, cluster_dec, cluster_z, ideal_data)\n",
    "gc_ideal_z = clmm.GalaxyCluster(\"CL_ideal_z\", cluster_ra, cluster_dec, cluster_z, ideal_data_z)\n",
    "gc_noisy_z = clmm.GalaxyCluster(\"CL_noisy_z\", cluster_ra, cluster_dec, cluster_z, noisy_data_z)\n"
   ]
  },
  {
   "cell_type": "markdown",
   "metadata": {},
   "source": [
    "### Calculating observables"
   ]
  },
  {
   "cell_type": "code",
   "execution_count": 3,
   "metadata": {},
   "outputs": [],
   "source": [
    "theta_ideal, gt_ideal, gx_ideal       = gc_ideal.compute_tangential_and_cross_components(geometry=\"flat\")\n",
    "theta_ideal_z, gt_ideal_z, gx_ideal_z = gc_ideal_z.compute_tangential_and_cross_components(geometry=\"flat\")\n",
    "theta_noisy_z, gt_noisy_z, gx_noisy_z = gc_noisy_z.compute_tangential_and_cross_components(geometry=\"flat\")"
   ]
  },
  {
   "cell_type": "markdown",
   "metadata": {},
   "source": [
    "### Binning the data"
   ]
  },
  {
   "cell_type": "code",
   "execution_count": 4,
   "metadata": {},
   "outputs": [
    {
     "name": "stderr",
     "output_type": "stream",
     "text": [
      "/home/caiooliveira/.local/lib/python3.10/site-packages/clmm-1.1.10-py3.10.egg/clmm/utils.py:176: RuntimeWarning: invalid value encountered in sqrt\n"
     ]
    }
   ],
   "source": [
    "bin_edges = da.make_bins(0.7, 4, 15, method='evenlog10width')\n",
    "\n",
    "profile_ideal   = gc_ideal.make_radial_profile(\"Mpc\", bins=bin_edges,cosmo=cosmo, gal_ids_in_bins=True)\n",
    "profile_ideal_z = gc_ideal_z.make_radial_profile(\"Mpc\", bins=bin_edges,cosmo=cosmo, gal_ids_in_bins=True)\n",
    "profile_noisy_z = gc_noisy_z.make_radial_profile(\"Mpc\", bins=bin_edges,cosmo=cosmo, gal_ids_in_bins=True)"
   ]
  },
  {
   "cell_type": "markdown",
   "metadata": {},
   "source": [
    "### Calculating Likelihood"
   ]
  },
  {
   "cell_type": "markdown",
   "metadata": {},
   "source": [
    "The measured shear $g^i_t$ is given by \n",
    "\n",
    "$$ g^i_t = g^{I,i}_t + g^{L,i}_t $$\n",
    "\n",
    "where $g^{I,i}_t$ is the intrisic shear and $g^{L,i}_t$ is the lensing shear. Assuming that the intrinsic shear is drawn from a normal distribution with average 0 and variance $\\sigma_{g^I_t}^2$, the probability of measuring $g^i_t$, given a certain $r$, $z$ and other cosmological parameters $\\vec{\\theta_c}$ is given by\n",
    "\n",
    "$$ P(g^i_t | r, z, \\vec{\\theta_c}) = \\frac{1}{\\sqrt{2\\pi}\\sigma_{g^I_t}} \\exp\\left[\\frac{-(g^i_t - g^{L,i}_t(r,z,\\vec{\\theta_c}))^2}{2\\sigma_{g^I_t}^2}\\right] $$\n",
    "Then, to find the likelihood of the set of all $\\{g^i_t\\}_i^{N}$ measured, we perform the following integral for all $g^i_t$:\n",
    "\n",
    "$$ P(g^i_t | \\vec{\\theta_c}) = \\int_0^{r_{max}} \\int_{z_{cluster}}^{\\infty} \\mathcal{d}r \\mathcal{d}z P(g^i_t | r, z, \\vec{\\theta_c}) P(r) P(z) $$\n",
    "\n",
    "where $P(r)$ and $P(z)$ are the distributions for $r$ and $z$.\n",
    "\n",
    "This is a computationally expensive process though. To avoid it, we use the following estimator for the integral\n",
    "\n",
    "$$ \\tilde{P}(g^i_t | \\vec{\\theta_c}) = \\frac{1}{N} \\sum_j^{N} P(g^i_t | r_j, z_j, \\vec{\\theta_c}) $$\n",
    "\n",
    "where $N$ is the number of galaxies. The total likelihood is then\n",
    "\n",
    "$$ \\mathcal{L} = \\prod_i^N \\tilde{P}(g^i_t | \\vec{\\theta_c}) =  \\prod_i^N \\left[ \\frac{1}{N} \\sum_j^{N} P(g^i_t | r_j, z_j, \\vec{\\theta_c}) \\right]  $$"
   ]
  },
  {
   "cell_type": "code",
   "execution_count": 5,
   "metadata": {},
   "outputs": [],
   "source": [
    "def shear_probability(gt_obs, gt_th, sigma):\n",
    "\n",
    "    return np.exp(-np.power(np.subtract(gt_obs, gt_th), 2)/2/sigma**2)/np.sqrt(2*np.pi)/sigma"
   ]
  },
  {
   "cell_type": "code",
   "execution_count": 6,
   "metadata": {},
   "outputs": [],
   "source": [
    "def shear_log_likelihood(gc, shapenoise, cosmo, sigma=1, m=1.e15, concentration=4, delta=200, model='nfw'):\n",
    "\n",
    "    n_bins     = len(gc.profile)\n",
    "    cluster_z  = gc.z\n",
    "\n",
    "    gal_z      = gc.galcat['z']\n",
    "    gal_r      = convert_units(gc.galcat['theta'], 'radians', 'Mpc', redshift=cluster_z, cosmo=cosmo)\n",
    "    gt_th      = clmm.compute_reduced_tangential_shear(gal_r, m, concentration, cluster_z, gal_z, cosmo, delta_mdef=200, halo_profile_model=model)\n",
    "    gt_obs     = gc.galcat['et']\n",
    "\n",
    "    likelihood = 1\n",
    "\n",
    "    for gal_id in range(len(gc_ideal.galcat)):\n",
    "\n",
    "        gt = gt_obs[gal_id]\n",
    "        gt_prob = np.mean(shear_probability(gt, gt_th, shapenoise))\n",
    "        likelihood += np.log(gt_prob)\n",
    "\n",
    "    return -2*likelihood"
   ]
  },
  {
   "cell_type": "code",
   "execution_count": 7,
   "metadata": {},
   "outputs": [
    {
     "name": "stdout",
     "output_type": "stream",
     "text": [
      "CL_ideal: -74293.24666255205\n",
      "CL_ideal_z: -66215.3058415999\n",
      "CL_noisy_z: -65533.49993574726\n"
     ]
    }
   ],
   "source": [
    "for gc in [gc_ideal, gc_ideal_z, gc_noisy_z]:\n",
    "    print(f'{gc.unique_id}: {shear_log_likelihood(gc, shapenoise, cosmo)}')"
   ]
  },
  {
   "cell_type": "code",
   "execution_count": null,
   "metadata": {},
   "outputs": [],
   "source": []
  }
 ],
 "metadata": {
  "kernelspec": {
   "display_name": "Python 3.10.5 64-bit",
   "language": "python",
   "name": "python3"
  },
  "language_info": {
   "codemirror_mode": {
    "name": "ipython",
    "version": 3
   },
   "file_extension": ".py",
   "mimetype": "text/x-python",
   "name": "python",
   "nbconvert_exporter": "python",
   "pygments_lexer": "ipython3",
   "version": "3.10.5"
  },
  "orig_nbformat": 4,
  "vscode": {
   "interpreter": {
    "hash": "e7370f93d1d0cde622a1f8e1c04877d8463912d04d973331ad4851f04de6915a"
   }
  }
 },
 "nbformat": 4,
 "nbformat_minor": 2
}
