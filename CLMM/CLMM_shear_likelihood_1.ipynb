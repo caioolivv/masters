{
 "cells": [
  {
   "cell_type": "markdown",
   "metadata": {},
   "source": [
    "# Shear Likelihood 1"
   ]
  },
  {
   "cell_type": "markdown",
   "metadata": {},
   "source": [
    "### Preparing necessary libraries"
   ]
  },
  {
   "cell_type": "code",
   "execution_count": 1,
   "metadata": {},
   "outputs": [],
   "source": [
    "import os\n",
    "import sys\n",
    "import gi\n",
    "\n",
    "gi.require_version('NumCosmo', '1.0')\n",
    "gi.require_version('NumCosmoMath', '1.0')\n",
    "from gi.repository import GObject\n",
    "from gi.repository import NumCosmo as Nc\n",
    "from gi.repository import NumCosmoMath as Ncm\n",
    "\n",
    "os.environ['CLMM_MODELING_BACKEND'] = 'nc'\n",
    "\n",
    "__name__ = \"NcContext\"\n",
    "\n",
    "Ncm.cfg_init ()\n",
    "Ncm.cfg_set_log_handler (lambda msg: sys.stdout.write (msg) and sys.stdout.flush ())\n",
    "\n",
    "try: import clmm\n",
    "except:\n",
    "    import notebook_install\n",
    "    notebook_install.install_clmm_pipeline(upgrade=False)\n",
    "    import clmm\n",
    "import matplotlib.pyplot as plt\n",
    "import numpy as np\n",
    "from astropy import units\n",
    "from numpy import random\n",
    "plt.rcParams['font.family']=['gothambook','gotham','gotham-book','serif']\n",
    "\n",
    "import clmm.dataops as da\n",
    "import clmm.galaxycluster as gc\n",
    "import clmm.theory as theory\n",
    "from clmm import Cosmology\n",
    "from clmm.support import mock_data as mock\n",
    "from clmm.utils import convert_units"
   ]
  },
  {
   "cell_type": "markdown",
   "metadata": {},
   "source": [
    "### Creating mock data"
   ]
  },
  {
   "cell_type": "code",
   "execution_count": 2,
   "metadata": {},
   "outputs": [],
   "source": [
    "np.random.seed(11)\n",
    "\n",
    "cosmo = Cosmology(H0 = 70.0, Omega_dm0 = 0.27 - 0.045, Omega_b0 = 0.045, Omega_k0 = 0.0)\n",
    "\n",
    "cluster_m     = 1.e15\n",
    "logm = np.log(cluster_m)/np.log(10)\n",
    "cluster_z     = 0.4\n",
    "concentration = 4\n",
    "ngals         = 10000\n",
    "Delta         = 200\n",
    "cluster_ra    = 20.0\n",
    "cluster_dec   = 90.0\n",
    "\n",
    "ideal_data   = mock.generate_galaxy_catalog(cluster_m, cluster_z, concentration, cosmo, 0.8, zsrc_min = cluster_z + 0.1, ngals=ngals, cluster_ra=cluster_ra, cluster_dec=cluster_dec)\n",
    "ideal_data_z = mock.generate_galaxy_catalog(cluster_m, cluster_z, concentration, cosmo,'chang13', zsrc_min = cluster_z + 0.1, ngals=ngals, cluster_ra=cluster_ra, cluster_dec=cluster_dec)\n",
    "noisy_data_z = mock.generate_galaxy_catalog(cluster_m, cluster_z, concentration, cosmo, 'chang13', zsrc_min = cluster_z + 0.1, shapenoise=0.05, photoz_sigma_unscaled=0.05, ngals=ngals, cluster_ra=cluster_ra, cluster_dec=cluster_dec)\n",
    "\n",
    "gc_ideal   = clmm.GalaxyCluster(\"CL_ideal\", cluster_ra, cluster_dec, cluster_z, ideal_data)\n",
    "gc_ideal_z = clmm.GalaxyCluster(\"CL_ideal_z\", cluster_ra, cluster_dec, cluster_z, ideal_data_z)\n",
    "gc_noisy_z = clmm.GalaxyCluster(\"CL_noisy_z\", cluster_ra, cluster_dec, cluster_z, noisy_data_z)\n",
    "\n",
    "# For some reason galaxy catalogs access information very deifferently from galaxy clusters"
   ]
  },
  {
   "cell_type": "markdown",
   "metadata": {},
   "source": [
    "### Calculating observables"
   ]
  },
  {
   "cell_type": "code",
   "execution_count": 3,
   "metadata": {},
   "outputs": [],
   "source": [
    "obs_ideal   = gc_ideal.compute_tangential_and_cross_components(geometry=\"flat\")\n",
    "obs_ideal_z = gc_ideal_z.compute_tangential_and_cross_components(geometry=\"flat\")\n",
    "obs_noisy_z = gc_noisy_z.compute_tangential_and_cross_components(geometry=\"flat\")\n",
    "\n",
    "# Convert from theta to radius\n",
    "radius = [convert_units(gc.galcat['theta'], 'radians', 'Mpc', redshift=cluster_z, cosmo=cosmo) for gc in [gc_ideal, gc_ideal_z, gc_noisy_z]]"
   ]
  },
  {
   "cell_type": "markdown",
   "metadata": {},
   "source": [
    "### Binning the data"
   ]
  },
  {
   "cell_type": "code",
   "execution_count": 4,
   "metadata": {},
   "outputs": [
    {
     "name": "stderr",
     "output_type": "stream",
     "text": [
      "/home/caiooliveira/.local/lib/python3.10/site-packages/clmm-1.1.10-py3.10.egg/clmm/utils.py:176: RuntimeWarning: invalid value encountered in sqrt\n"
     ]
    }
   ],
   "source": [
    "bin_edges = da.make_bins(0.7, 4, 15, method='evenlog10width')\n",
    "\n",
    "profile_ideal   = gc_ideal.make_radial_profile(\"Mpc\", bins=bin_edges,cosmo=cosmo, gal_ids_in_bins=True)\n",
    "profile_ideal_z = gc_ideal_z.make_radial_profile(\"Mpc\", bins=bin_edges,cosmo=cosmo, gal_ids_in_bins=True)\n",
    "profile_noisy_z = gc_noisy_z.make_radial_profile(\"Mpc\", bins=bin_edges,cosmo=cosmo, gal_ids_in_bins=True)\n",
    "\n",
    "profiles = [profile_ideal, profile_ideal_z, profile_noisy_z]"
   ]
  },
  {
   "cell_type": "code",
   "execution_count": 5,
   "metadata": {},
   "outputs": [
    {
     "name": "stdout",
     "output_type": "stream",
     "text": [
      "7597\n",
      "7597\n"
     ]
    }
   ],
   "source": [
    "print(sum(r <= 4. and r >= 0.7 for r in radius[0]))\n",
    "print(sum([len(profile_ideal[i]['gal_id']) for i in range(0,15)]))"
   ]
  },
  {
   "cell_type": "code",
   "execution_count": 9,
   "metadata": {},
   "outputs": [
    {
     "data": {
      "text/html": [
       "<b>GCData</b><br> <b>defined by:</b> cosmo=None<br> <b>with columns:</b> ra, dec, e1, e2, z, ztrue, id, theta, et, ex<br> 10000 objects<br> \n",
       "<table id=\"table140149292241184\" class=\"table-striped table-bordered table-condensed\">\n",
       "<thead><tr><th>ra</th><th>dec</th><th>e1</th><th>e2</th><th>z</th><th>ztrue</th><th>id</th><th>theta</th><th>et</th><th>ex</th></tr></thead>\n",
       "<thead><tr><th>float64</th><th>float64</th><th>float64</th><th>float64</th><th>float64</th><th>float64</th><th>int64</th><th>float64</th><th>float64</th><th>float64</th></tr></thead>\n",
       "<tr><td>66.29184640208061</td><td>89.81856252394499</td><td>-0.0004135242820000258</td><td>-0.0091640670730594</td><td>0.8</td><td>0.8</td><td>0</td><td>0.0031666813436682876</td><td>-0.000413524281999738</td><td>-0.009164067073059412</td></tr>\n",
       "<tr><td>71.5286213801106</td><td>89.74823160545624</td><td>-0.0013433583067593903</td><td>-0.005792315912258614</td><td>0.8</td><td>0.8</td><td>1</td><td>0.004394187437248733</td><td>-0.0013433583067592443</td><td>-0.005792315912258648</td></tr>\n",
       "<tr><td>33.52581153909449</td><td>89.935489123421</td><td>0.025889238847228283</td><td>-0.013220621389177897</td><td>0.8</td><td>0.8</td><td>2</td><td>0.001125927199651368</td><td>0.025889238847228623</td><td>-0.013220621389177232</td></tr>\n",
       "<tr><td>300.07334896586775</td><td>89.90628582827307</td><td>-0.018759844061413233</td><td>0.006882470690704174</td><td>0.8</td><td>0.8</td><td>3</td><td>0.0016356208524143064</td><td>-0.018759844061412515</td><td>0.0068824706907061346</td></tr>\n",
       "<tr><td>189.61950641689276</td><td>89.81833621996996</td><td>0.008564072621400767</td><td>0.0032465150007900067</td><td>0.8</td><td>0.8</td><td>4</td><td>0.0031706310931428443</td><td>0.008564072621400395</td><td>0.003246515000790987</td></tr>\n",
       "<tr><td>22.772626153226327</td><td>89.87641960764591</td><td>0.01460111823659076</td><td>-0.0014175675736177859</td><td>0.8</td><td>0.8</td><td>5</td><td>0.0021568847374852213</td><td>0.014601118236590764</td><td>-0.0014175675736177488</td></tr>\n",
       "<tr><td>100.09407872148873</td><td>89.7971144556942</td><td>-0.007467925809980673</td><td>-0.002690362486364357</td><td>0.8</td><td>0.8</td><td>6</td><td>0.003541020752837054</td><td>-0.007467925809980543</td><td>-0.0026903624863647176</td></tr>\n",
       "<tr><td>170.78293301065207</td><td>89.98938731813249</td><td>0.04766612114476468</td><td>0.0775837016020099</td><td>0.8</td><td>0.8</td><td>7</td><td>0.00018522624105481346</td><td>0.047666121144629696</td><td>0.07758370160209284</td></tr>\n",
       "<tr><td>293.70123343891686</td><td>89.81838889474838</td><td>-0.009085816112324955</td><td>0.0011804392724237998</td><td>0.8</td><td>0.8</td><td>8</td><td>0.0031697117448267194</td><td>-0.009085816112324886</td><td>0.0011804392724243295</td></tr>\n",
       "<tr><td>326.0542732723949</td><td>89.82200904447768</td><td>-0.002888053761324556</td><td>0.008946148893216191</td><td>0.8</td><td>0.8</td><td>9</td><td>0.003106528212635241</td><td>-0.0028880537613242253</td><td>0.008946148893216299</td></tr>\n",
       "<tr><td>...</td><td>...</td><td>...</td><td>...</td><td>...</td><td>...</td><td>...</td><td>...</td><td>...</td><td>...</td></tr>\n",
       "<tr><td>222.02408311349427</td><td>89.81736330588387</td><td>0.006538051729800245</td><td>-0.00632435364716208</td><td>0.8</td><td>0.8</td><td>9990</td><td>0.003187611647284168</td><td>0.006538051729799575</td><td>-0.006324353647162772</td></tr>\n",
       "<tr><td>262.99620565670534</td><td>89.90003613470613</td><td>-0.010951413926890089</td><td>-0.015077527230362828</td><td>0.8</td><td>0.8</td><td>9991</td><td>0.0017446985823981694</td><td>-0.010951413926892247</td><td>-0.01507752723036126</td></tr>\n",
       "<tr><td>255.99475182733642</td><td>89.78975818385959</td><td>-0.0028361998601795133</td><td>-0.007023545221857923</td><td>0.8</td><td>0.8</td><td>9992</td><td>0.003669411917022716</td><td>-0.0028361998601800194</td><td>-0.007023545221857718</td></tr>\n",
       "<tr><td>174.58071928104994</td><td>89.82143793743309</td><td>0.005912470198380748</td><td>0.007259374433634793</td><td>0.8</td><td>0.8</td><td>9993</td><td>0.0031164959109447163</td><td>0.005912470198379979</td><td>0.00725937443363542</td></tr>\n",
       "<tr><td>34.98153104677428</td><td>89.99482360826094</td><td>0.10150586713637286</td><td>-0.058517219336859494</td><td>0.8</td><td>0.8</td><td>9994</td><td>9.034507921956113e-05</td><td>0.10150586713639359</td><td>-0.05851721933682354</td></tr>\n",
       "<tr><td>106.56803338797079</td><td>89.84735786754709</td><td>-0.011312450092164542</td><td>-0.0013617321417431257</td><td>0.8</td><td>0.8</td><td>9995</td><td>0.0026641077885685856</td><td>-0.011312450092164446</td><td>-0.001361732141743913</td></tr>\n",
       "<tr><td>136.0742692861635</td><td>89.82940825052141</td><td>-0.006087513716955722</td><td>0.007833437301768126</td><td>0.8</td><td>0.8</td><td>9996</td><td>0.002977387705138704</td><td>-0.0060875137169563755</td><td>0.007833437301767618</td></tr>\n",
       "<tr><td>341.5069200779444</td><td>89.84064428642999</td><td>0.00243292163024081</td><td>0.010526539789200354</td><td>0.8</td><td>0.8</td><td>9997</td><td>0.0027812818836616487</td><td>0.0024329216302411195</td><td>0.010526539789200283</td></tr>\n",
       "<tr><td>263.1330439714235</td><td>89.8975944534319</td><td>-0.010735422145200414</td><td>-0.01463265050311561</td><td>0.8</td><td>0.8</td><td>9998</td><td>0.001787313959917604</td><td>-0.010735422145202456</td><td>-0.014632650503114112</td></tr>\n",
       "<tr><td>86.89429527445053</td><td>89.81081681746141</td><td>-0.006015918796541074</td><td>-0.006275843281152314</td><td>0.8</td><td>0.8</td><td>9999</td><td>0.003301869424699753</td><td>-0.0060159187965408015</td><td>-0.006275843281152575</td></tr>\n",
       "</table></div>"
      ],
      "text/plain": [
       "GCData(cosmo=None, columns: ra, dec, e1, e2, z, ztrue, id, theta, et, ex)"
      ]
     },
     "execution_count": 9,
     "metadata": {},
     "output_type": "execute_result"
    }
   ],
   "source": [
    "gc_ideal.galcat"
   ]
  },
  {
   "cell_type": "code",
   "execution_count": 6,
   "metadata": {},
   "outputs": [
    {
     "ename": "SyntaxError",
     "evalue": "invalid syntax (3147852579.py, line 4)",
     "output_type": "error",
     "traceback": [
      "\u001b[0;36m  Input \u001b[0;32mIn [6]\u001b[0;36m\u001b[0m\n\u001b[0;31m    r_bin =\u001b[0m\n\u001b[0m            ^\u001b[0m\n\u001b[0;31mSyntaxError\u001b[0m\u001b[0;31m:\u001b[0m invalid syntax\n"
     ]
    }
   ],
   "source": [
    "def tangential_shear_probability_estimator(profile, data, gt):\n",
    "    for i in range(len(profile)):\n",
    "        gal_list_bin = profile[i]['gal_id']\n",
    "        r_bin = \n",
    "        gt_obs_bin = gt[gal_list_bin]\n",
    "        gt_th_bin = clmm.compute_reduced_tangential_shear(r, m, concentration, \n",
    "                                                      cluster_z, z_list, cosmo, delta_mdef=200, \n",
    "                                                      halo_profile_model='nfw')\n",
    "\n",
    "\n",
    "    return\n",
    "\n",
    "\n",
    "def cross_shear_estimator():\n",
    "    return\n",
    "\n",
    "def theta_estimator():\n",
    "    return"
   ]
  },
  {
   "cell_type": "code",
   "execution_count": null,
   "metadata": {},
   "outputs": [
    {
     "data": {
      "text/plain": [
       "0.7445563894856873"
      ]
     },
     "execution_count": 22,
     "metadata": {},
     "output_type": "execute_result"
    }
   ],
   "source": [
    "# for n in gc_ideal.profile.colnames: gc_ideal.profile[n].format = \"%6.3e\"\n",
    "gc_ideal.profile['radius'][0]"
   ]
  },
  {
   "cell_type": "code",
   "execution_count": null,
   "metadata": {},
   "outputs": [
    {
     "data": {
      "text/plain": [
       "15"
      ]
     },
     "execution_count": 17,
     "metadata": {},
     "output_type": "execute_result"
    }
   ],
   "source": [
    "len(gc_ideal.profile)"
   ]
  },
  {
   "cell_type": "code",
   "execution_count": null,
   "metadata": {},
   "outputs": [],
   "source": []
  }
 ],
 "metadata": {
  "kernelspec": {
   "display_name": "Python 3.10.5 64-bit",
   "language": "python",
   "name": "python3"
  },
  "language_info": {
   "codemirror_mode": {
    "name": "ipython",
    "version": 3
   },
   "file_extension": ".py",
   "mimetype": "text/x-python",
   "name": "python",
   "nbconvert_exporter": "python",
   "pygments_lexer": "ipython3",
   "version": "3.10.5"
  },
  "orig_nbformat": 4,
  "vscode": {
   "interpreter": {
    "hash": "e7370f93d1d0cde622a1f8e1c04877d8463912d04d973331ad4851f04de6915a"
   }
  }
 },
 "nbformat": 4,
 "nbformat_minor": 2
}
