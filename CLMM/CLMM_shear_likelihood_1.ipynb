{
 "cells": [
  {
   "cell_type": "markdown",
   "metadata": {},
   "source": [
    "# Shear Likelihood 1"
   ]
  },
  {
   "cell_type": "markdown",
   "metadata": {},
   "source": [
    "### Preparing necessary libraries"
   ]
  },
  {
   "cell_type": "code",
   "execution_count": 1,
   "metadata": {},
   "outputs": [],
   "source": [
    "import os\n",
    "import sys\n",
    "import gi\n",
    "\n",
    "gi.require_version('NumCosmo', '1.0')\n",
    "gi.require_version('NumCosmoMath', '1.0')\n",
    "from gi.repository import GObject\n",
    "from gi.repository import NumCosmo as Nc\n",
    "from gi.repository import NumCosmoMath as Ncm\n",
    "\n",
    "os.environ['CLMM_MODELING_BACKEND'] = 'nc'\n",
    "\n",
    "__name__ = \"NcContext\"\n",
    "\n",
    "Ncm.cfg_init ()\n",
    "Ncm.cfg_set_log_handler (lambda msg: sys.stdout.write (msg) and sys.stdout.flush ())\n",
    "\n",
    "try: import clmm\n",
    "except:\n",
    "    import notebook_install\n",
    "    notebook_install.install_clmm_pipeline(upgrade=False)\n",
    "    import clmm\n",
    "import matplotlib.pyplot as plt\n",
    "import numpy as np\n",
    "from astropy import units\n",
    "from numpy import random\n",
    "plt.rcParams['font.family']=['gothambook','gotham','gotham-book','serif']\n",
    "\n",
    "import clmm.dataops as da\n",
    "import clmm.galaxycluster as gc\n",
    "import clmm.theory as theory\n",
    "from clmm import Cosmology\n",
    "from clmm.support import mock_data as mock\n",
    "from clmm.utils import convert_units"
   ]
  },
  {
   "cell_type": "markdown",
   "metadata": {},
   "source": [
    "### Creating mock data"
   ]
  },
  {
   "cell_type": "code",
   "execution_count": 2,
   "metadata": {},
   "outputs": [],
   "source": [
    "np.random.seed(11)\n",
    "\n",
    "cosmo = Cosmology(H0 = 70.0, Omega_dm0 = 0.27 - 0.045, Omega_b0 = 0.045, Omega_k0 = 0.0)\n",
    "\n",
    "cluster_m     = 1.e15\n",
    "logm = np.log(cluster_m)/np.log(10)\n",
    "cluster_z     = 0.4\n",
    "concentration = 4\n",
    "ngals         = 10000\n",
    "Delta         = 200\n",
    "cluster_ra    = 20.0\n",
    "cluster_dec   = 90.0\n",
    "\n",
    "ideal_data   = mock.generate_galaxy_catalog(cluster_m, cluster_z, concentration, cosmo, 0.8, zsrc_min = cluster_z + 0.1, ngals=ngals, cluster_ra=cluster_ra, cluster_dec=cluster_dec)\n",
    "ideal_data_z = mock.generate_galaxy_catalog(cluster_m, cluster_z, concentration, cosmo,'chang13', zsrc_min = cluster_z + 0.1, ngals=ngals, cluster_ra=cluster_ra, cluster_dec=cluster_dec)\n",
    "noisy_data_z = mock.generate_galaxy_catalog(cluster_m, cluster_z, concentration, cosmo, 'chang13', zsrc_min = cluster_z + 0.1, shapenoise=0.05, photoz_sigma_unscaled=0.05, ngals=ngals, cluster_ra=cluster_ra, cluster_dec=cluster_dec)\n",
    "\n",
    "gc_ideal   = clmm.GalaxyCluster(\"CL_ideal\", cluster_ra, cluster_dec, cluster_z, ideal_data)\n",
    "gc_ideal_z = clmm.GalaxyCluster(\"CL_ideal_z\", cluster_ra, cluster_dec, cluster_z, ideal_data_z)\n",
    "gc_noisy_z = clmm.GalaxyCluster(\"CL_noisy_z\", cluster_ra, cluster_dec, cluster_z, noisy_data_z)\n",
    "\n",
    "# For some reason galaxy catalogs access information very deifferently from galaxy clusters"
   ]
  },
  {
   "cell_type": "markdown",
   "metadata": {},
   "source": [
    "### Calculating observables"
   ]
  },
  {
   "cell_type": "code",
   "execution_count": 3,
   "metadata": {},
   "outputs": [],
   "source": [
    "obs_ideal   = gc_ideal.compute_tangential_and_cross_components(geometry=\"flat\")\n",
    "obs_ideal_z = gc_ideal_z.compute_tangential_and_cross_components(geometry=\"flat\")\n",
    "obs_noisy_z = gc_noisy_z.compute_tangential_and_cross_components(geometry=\"flat\")\n",
    "\n",
    "# Convert from theta to radius\n",
    "radius = [convert_units(gc.galcat['theta'], 'radians', 'Mpc', redshift=cluster_z, cosmo=cosmo) for gc in [gc_ideal, gc_ideal_z, gc_noisy_z]]"
   ]
  },
  {
   "cell_type": "markdown",
   "metadata": {},
   "source": [
    "### Binning the data"
   ]
  },
  {
   "cell_type": "code",
   "execution_count": 4,
   "metadata": {},
   "outputs": [
    {
     "name": "stderr",
     "output_type": "stream",
     "text": [
      "/home/caiooliveira/.local/lib/python3.10/site-packages/clmm-1.1.10-py3.10.egg/clmm/utils.py:176: RuntimeWarning: invalid value encountered in sqrt\n"
     ]
    }
   ],
   "source": [
    "bin_edges = da.make_bins(0.7, 4, 15, method='evenlog10width')\n",
    "\n",
    "profile_ideal   = gc_ideal.make_radial_profile(\"Mpc\", bins=bin_edges,cosmo=cosmo, gal_ids_in_bins=True)\n",
    "profile_ideal_z = gc_ideal_z.make_radial_profile(\"Mpc\", bins=bin_edges,cosmo=cosmo, gal_ids_in_bins=True)\n",
    "profile_noisy_z = gc_noisy_z.make_radial_profile(\"Mpc\", bins=bin_edges,cosmo=cosmo, gal_ids_in_bins=True)\n",
    "\n",
    "profiles = [profile_ideal, profile_ideal_z, profile_noisy_z]"
   ]
  },
  {
   "cell_type": "code",
   "execution_count": 5,
   "metadata": {},
   "outputs": [
    {
     "name": "stdout",
     "output_type": "stream",
     "text": [
      "7597\n",
      "7597\n"
     ]
    }
   ],
   "source": [
    "print(sum(r <= 4. and r >= 0.7 for r in radius[0]))\n",
    "print(sum([len(profile_ideal[i]['gal_id']) for i in range(0,15)]))"
   ]
  },
  {
   "cell_type": "code",
   "execution_count": 41,
   "metadata": {},
   "outputs": [],
   "source": [
    "# Probability of measuring gt_obs given a certain r, z, cosmo, etc.\n",
    "def shear_probability(r, gal_z, cluster_z, gt_obs, sigma, cosmo, m=1.e15, concentration=4, delta=200, model='nfw'):\n",
    "\n",
    "    gt_th = clmm.compute_reduced_tangential_shear(r, m, concentration, cluster_z, gal_z, cosmo, delta_mdef=200, halo_profile_model=model)\n",
    "\n",
    "    return np.exp(-np.power(np.subtract(gt_obs, gt_th), 2)/2/sigma**2)/np.sqrt(2*np.pi)/sigma"
   ]
  },
  {
   "cell_type": "code",
   "execution_count": 43,
   "metadata": {},
   "outputs": [],
   "source": [
    "def shear_likelihood(radius, gc_data, cosmo, sigma=1, m=1.e15, concentration=4, delta=200, model='nfw'):\n",
    "\n",
    "    n_bins = len(gc_data.profile)\n",
    "    cluster_z = gc_data.z\n",
    "    likelihood = 1\n",
    "\n",
    "    for i in range(n_bins):\n",
    "\n",
    "        gal_list = gc_data.profile['gal_id'][i]\n",
    "        z_list = gc_data.galcat['z'][gal_list]\n",
    "        r_list = [radius[gal_id] for gal_id in gal_list]\n",
    "        shear_obs = gc_data.profile['gt'][i]\n",
    "\n",
    "        shear_prob_bin = np.mean(shear_probability(r_list, z_list, cluster_z, shear_obs, sigma, cosmo, m, concentration, delta, model))\n",
    "        likelihood *= shear_prob_bin\n",
    "\n",
    "    return likelihood"
   ]
  },
  {
   "cell_type": "code",
   "execution_count": 46,
   "metadata": {},
   "outputs": [
    {
     "data": {
      "text/plain": [
       "1.0258993807047827e-06"
      ]
     },
     "execution_count": 46,
     "metadata": {},
     "output_type": "execute_result"
    }
   ],
   "source": [
    "shear_likelihood(radius[0], gc_ideal, cosmo)"
   ]
  },
  {
   "cell_type": "code",
   "execution_count": null,
   "metadata": {},
   "outputs": [],
   "source": []
  }
 ],
 "metadata": {
  "kernelspec": {
   "display_name": "Python 3.10.5 64-bit",
   "language": "python",
   "name": "python3"
  },
  "language_info": {
   "codemirror_mode": {
    "name": "ipython",
    "version": 3
   },
   "file_extension": ".py",
   "mimetype": "text/x-python",
   "name": "python",
   "nbconvert_exporter": "python",
   "pygments_lexer": "ipython3",
   "version": "3.10.5"
  },
  "orig_nbformat": 4,
  "vscode": {
   "interpreter": {
    "hash": "e7370f93d1d0cde622a1f8e1c04877d8463912d04d973331ad4851f04de6915a"
   }
  }
 },
 "nbformat": 4,
 "nbformat_minor": 2
}
