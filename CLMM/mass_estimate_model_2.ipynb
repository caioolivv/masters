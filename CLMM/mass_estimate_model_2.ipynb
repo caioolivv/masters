{
 "cells": [
  {
   "cell_type": "code",
   "execution_count": 4,
   "metadata": {},
   "outputs": [
    {
     "ename": "ModuleNotFoundError",
     "evalue": "No module named 'notebook_install'",
     "output_type": "error",
     "traceback": [
      "\u001b[0;31m---------------------------------------------------------------------------\u001b[0m",
      "\u001b[0;31mModuleNotFoundError\u001b[0m                       Traceback (most recent call last)",
      "Cell \u001b[0;32mIn[4], line 18\u001b[0m\n\u001b[1;32m     16\u001b[0m Ncm\u001b[39m.\u001b[39mcfg_set_log_handler (\u001b[39mlambda\u001b[39;00m msg: sys\u001b[39m.\u001b[39mstdout\u001b[39m.\u001b[39mwrite (msg) \u001b[39mand\u001b[39;00m sys\u001b[39m.\u001b[39mstdout\u001b[39m.\u001b[39mflush ())\n\u001b[0;32m---> 18\u001b[0m \u001b[39mtry\u001b[39;00m: \u001b[39mimport\u001b[39;00m \u001b[39mclmm\u001b[39;00m\n\u001b[1;32m     19\u001b[0m \u001b[39mexcept\u001b[39;00m:\n",
      "\u001b[0;31mModuleNotFoundError\u001b[0m: No module named 'clmm'",
      "\nDuring handling of the above exception, another exception occurred:\n",
      "\u001b[0;31mModuleNotFoundError\u001b[0m                       Traceback (most recent call last)",
      "Cell \u001b[0;32mIn[4], line 20\u001b[0m\n\u001b[1;32m     18\u001b[0m \u001b[39mtry\u001b[39;00m: \u001b[39mimport\u001b[39;00m \u001b[39mclmm\u001b[39;00m\n\u001b[1;32m     19\u001b[0m \u001b[39mexcept\u001b[39;00m:\n\u001b[0;32m---> 20\u001b[0m     \u001b[39mimport\u001b[39;00m \u001b[39mnotebook_install\u001b[39;00m\n\u001b[1;32m     21\u001b[0m     notebook_install\u001b[39m.\u001b[39minstall_clmm_pipeline(upgrade\u001b[39m=\u001b[39m\u001b[39mFalse\u001b[39;00m)\n\u001b[1;32m     22\u001b[0m     \u001b[39mimport\u001b[39;00m \u001b[39mclmm\u001b[39;00m\n",
      "\u001b[0;31mModuleNotFoundError\u001b[0m: No module named 'notebook_install'"
     ]
    }
   ],
   "source": [
    "import os\n",
    "import sys\n",
    "import gi\n",
    "\n",
    "gi.require_version('NumCosmo', '1.0')\n",
    "gi.require_version('NumCosmoMath', '1.0')\n",
    "from gi.repository import GObject\n",
    "from gi.repository import NumCosmo as Nc\n",
    "from gi.repository import NumCosmoMath as Ncm\n",
    "\n",
    "os.environ['CLMM_MODELING_BACKEND'] = 'nc'\n",
    "\n",
    "__name__ = \"NcContext\"\n",
    "\n",
    "Ncm.cfg_init ()\n",
    "Ncm.cfg_set_log_handler (lambda msg: sys.stdout.write (msg) and sys.stdout.flush ())\n",
    "\n",
    "try: import clmm\n",
    "except:\n",
    "    import notebook_install\n",
    "    notebook_install.install_clmm_pipeline(upgrade=False)\n",
    "    import clmm\n",
    "import matplotlib.pyplot as plt\n",
    "import numpy as np\n",
    "import time\n",
    "from datetime import timedelta\n",
    "from astropy import units\n",
    "from numpy import random\n",
    "plt.rcParams['text.latex.preamble'] = [r'\\usepackage{pxfonts, mathpazo}']\n",
    "plt.rcParams['font.family']=['Palatino']\n",
    "plt.rc('text', usetex=True)\n",
    "\n",
    "\n",
    "import clmm.dataops as da\n",
    "import clmm.theory as theory\n",
    "from clmm import Cosmology\n",
    "from clmm.support import mock_data as mock\n",
    "from clmm.utils import convert_units\n",
    "from scipy.stats import chi2\n",
    "from scipy.stats import kstest\n",
    "import corner\n",
    "import math"
   ]
  },
  {
   "cell_type": "code",
   "execution_count": null,
   "metadata": {},
   "outputs": [
    {
     "ename": "",
     "evalue": "",
     "output_type": "error",
     "traceback": [
      "\u001b[1;31mRunning cells with '/bin/python' requires ipykernel package.\n",
      "\u001b[1;31mRun the following command to install 'ipykernel' into the Python environment. \n",
      "\u001b[1;31mCommand: '/bin/python -m pip install ipykernel -U --user --force-reinstall'"
     ]
    },
    {
     "ename": "",
     "evalue": "",
     "output_type": "error",
     "traceback": [
      "\u001b[1;31mnotebook controller is DISPOSED. \n",
      "\u001b[1;31mView Jupyter <a href='command:jupyter.viewOutput'>log</a> for further details."
     ]
    }
   ],
   "source": [
    "np.random.seed(0)\n",
    "# Define cosmological parameters\n",
    "cosmo = Cosmology(H0 = 70.0, Omega_dm0 = 0.27 - 0.045, Omega_b0 = 0.045, Omega_k0 = 0.0)\n",
    "    \n",
    "cluster_m     = 1.e15 # Cluster mass\n",
    "cluster_z     = 0.4   # Cluster redshift\n",
    "concentration = 4     # Concentrion parameter NFW profile\n",
    "ngals         = 10000 # Number of galaxies\n",
    "Delta         = 200   # Overdensity parameter definition NFW profile\n",
    "cluster_ra    = 0.0   # Cluster right ascension\n",
    "cluster_dec   = 0.0   # Cluster declination\n",
    "shapenoise    = 1e-3 # True ellipticity standard variation\n",
    "\n",
    "# Create galaxy catalog and Cluster object\n",
    "data = mock.generate_galaxy_catalog(cluster_m, cluster_z, concentration, cosmo, \"chang13\", zsrc_min = cluster_z + 0.1, shapenoise=shapenoise, ngals=ngals, cluster_ra=cluster_ra, cluster_dec=cluster_dec)\n",
    "gc = clmm.GalaxyCluster(\"CL_noisy_z\", cluster_ra, cluster_dec, cluster_z, data)\n",
    "\n",
    "gc.compute_tangential_and_cross_components(geometry=\"flat\")\n",
    "radius = convert_units(gc.galcat['theta'], 'radians', 'Mpc', redshift=gc.z, cosmo=cosmo)"
   ]
  },
  {
   "cell_type": "code",
   "execution_count": null,
   "metadata": {},
   "outputs": [
    {
     "ename": "",
     "evalue": "",
     "output_type": "error",
     "traceback": [
      "\u001b[1;31mRunning cells with '/bin/python' requires ipykernel package.\n",
      "\u001b[1;31mRun the following command to install 'ipykernel' into the Python environment. \n",
      "\u001b[1;31mCommand: '/bin/python -m pip install ipykernel -U --user --force-reinstall'"
     ]
    },
    {
     "ename": "",
     "evalue": "",
     "output_type": "error",
     "traceback": [
      "\u001b[1;31mnotebook controller is DISPOSED. \n",
      "\u001b[1;31mView Jupyter <a href='command:jupyter.viewOutput'>log</a> for further details."
     ]
    }
   ],
   "source": [
    "def create_nc_data_cluster_wl (theta, g_t, z_source, z_cluster, cosmo, dist, sigma_z = None, sigma_g = None):\n",
    "    r  = clmm.convert_units (theta, \"radians\", \"Mpc\", redshift = z_cluster, cosmo = cosmo)\n",
    "    ga = Ncm.ObjArray.new ()\n",
    "    \n",
    "    sigma_g = 1.0e-4 if not sigma_g else sigma_g\n",
    "    m_obs = np.column_stack ((r, g_t, np.repeat (sigma_g, len (r))))\n",
    "    \n",
    "    grsg = Nc.GalaxyWLReducedShearGauss (pos = Nc.GalaxyWLReducedShearGaussPos.R)\n",
    "    grsg.set_obs (Ncm.Matrix.new_array (m_obs.flatten (), 3))\n",
    "    \n",
    "\n",
    "    gzgs = Nc.GalaxyRedshiftSpec ()\n",
    "    gzgs.set_z (Ncm.Vector.new_array (z_source))\n",
    "\n",
    "    gwl  = Nc.GalaxyWL (wl_dist = grsg, gz_dist = gzgs)\n",
    "    ga.add (gwl)\n",
    "\n",
    "    nc_dcwl = Nc.DataClusterWL (galaxy_array = ga, z_cluster = z_cluster)\n",
    "    nc_dcwl.set_init (True)\n",
    "    \n",
    "    return nc_dcwl\n",
    "\n",
    "def create_fit_obj (data_array, mset):\n",
    "    dset = Ncm.Dataset.new ()\n",
    "    for data in data_array:\n",
    "        dset.append_data (data)\n",
    "    lh = Ncm.Likelihood.new (dset)\n",
    "    fit = Ncm.Fit.new (Ncm.FitType.NLOPT, \"ln-neldermead\", lh, mset, Ncm.FitGradType.NUMDIFF_FORWARD)\n",
    "    #fit.set_params_reltol (1.0e-8)\n",
    "    #fit.set_m2lnL_reltol (1.0e-11)\n",
    "    \n",
    "    return fit\n",
    "\n",
    "ggt = create_nc_data_cluster_wl (gc.galcat['theta'], gc.galcat['et'], gc.galcat['z'], cluster_z, cosmo, cosmo.dist, sigma_g = 1e-3)\n",
    "\n",
    "moo = clmm.Modeling (massdef = 'mean', delta_mdef = 200, halo_profile_model = 'nfw')\n",
    "moo.set_cosmo (cosmo)\n",
    "\n",
    "mset = moo.get_mset ()\n",
    "\n",
    "MDelta_pi = mset.param_get_by_full_name (\"NcHaloDensityProfile:log10MDelta\")\n",
    "cDelta_pi = mset.param_get_by_full_name (\"NcHaloDensityProfile:cDelta\")\n",
    "\n",
    "mset.param_set_ftype (MDelta_pi.mid, MDelta_pi.pid, Ncm.ParamType.FREE)\n",
    "mset.param_set_ftype (cDelta_pi.mid, cDelta_pi.pid, Ncm.ParamType.FREE)\n",
    "mset.prepare_fparam_map ()\n"
   ]
  },
  {
   "cell_type": "code",
   "execution_count": null,
   "metadata": {},
   "outputs": [
    {
     "ename": "",
     "evalue": "",
     "output_type": "error",
     "traceback": [
      "\u001b[1;31mRunning cells with '/bin/python' requires ipykernel package.\n",
      "\u001b[1;31mRun the following command to install 'ipykernel' into the Python environment. \n",
      "\u001b[1;31mCommand: '/bin/python -m pip install ipykernel -U --user --force-reinstall'"
     ]
    },
    {
     "ename": "",
     "evalue": "",
     "output_type": "error",
     "traceback": [
      "\u001b[1;31mnotebook controller is DISPOSED. \n",
      "\u001b[1;31mView Jupyter <a href='command:jupyter.viewOutput'>log</a> for further details."
     ]
    }
   ],
   "source": [
    "fit = create_fit_obj ([ggt], mset)\n",
    "\n",
    "fit.run (Ncm.FitRunMsgs.SIMPLE)\n",
    "fit.obs_fisher ()\n",
    "fit.log_covar ()\n",
    "\n",
    "mest = 10**mset.param_get (MDelta_pi.mid, MDelta_pi.pid)\n",
    "print (\"% 22.15e\" % (mest))"
   ]
  },
  {
   "cell_type": "code",
   "execution_count": null,
   "metadata": {},
   "outputs": [
    {
     "ename": "",
     "evalue": "",
     "output_type": "error",
     "traceback": [
      "\u001b[1;31mRunning cells with '/bin/python' requires ipykernel package.\n",
      "\u001b[1;31mRun the following command to install 'ipykernel' into the Python environment. \n",
      "\u001b[1;31mCommand: '/bin/python -m pip install ipykernel -U --user --force-reinstall'"
     ]
    },
    {
     "ename": "",
     "evalue": "",
     "output_type": "error",
     "traceback": [
      "\u001b[1;31mnotebook controller is DISPOSED. \n",
      "\u001b[1;31mView Jupyter <a href='command:jupyter.viewOutput'>log</a> for further details."
     ]
    }
   ],
   "source": [
    "print (\"% 22.15e\" % (mest))"
   ]
  },
  {
   "cell_type": "code",
   "execution_count": null,
   "metadata": {},
   "outputs": [
    {
     "ename": "",
     "evalue": "",
     "output_type": "error",
     "traceback": [
      "\u001b[1;31mRunning cells with '/bin/python' requires ipykernel package.\n",
      "\u001b[1;31mRun the following command to install 'ipykernel' into the Python environment. \n",
      "\u001b[1;31mCommand: '/bin/python -m pip install ipykernel -U --user --force-reinstall'"
     ]
    },
    {
     "ename": "",
     "evalue": "",
     "output_type": "error",
     "traceback": [
      "\u001b[1;31mnotebook controller is DISPOSED. \n",
      "\u001b[1;31mView Jupyter <a href='command:jupyter.viewOutput'>log</a> for further details."
     ]
    }
   ],
   "source": [
    "Ncm.func_eval_set_max_threads (4)\n",
    "Ncm.func_eval_log_pool_stats ()\n",
    "\n",
    "init_sampler = Ncm.MSetTransKernGauss.new (0)\n",
    "init_sampler.set_mset (mset)\n",
    "init_sampler.set_prior_from_mset ()\n",
    "init_sampler.set_cov_from_rescale (1.0e-1)\n",
    "\n",
    "nwalkers = 100\n",
    "stretch = Ncm.FitESMCMCWalkerAPES.new (nwalkers, mset.fparams_len ())\n",
    "\n",
    "esmcmc  = Ncm.FitESMCMC.new (fit, nwalkers, init_sampler, stretch, Ncm.FitRunMsgs.SIMPLE)\n",
    "esmcmc.set_data_file (\"Data/mcmc_new_lh.fits\")\n",
    "esmcmc.set_auto_trim (True)\n",
    "esmcmc.set_auto_trim_div (100)\n",
    "esmcmc.set_max_runs_time (2.0 * 60.0)\n",
    "esmcmc.set_nthreads(4)\n",
    "\n",
    "\n",
    "esmcmc.start_run()\n",
    "esmcmc.run(10000/nwalkers)\n",
    "esmcmc.end_run()\n"
   ]
  }
 ],
 "metadata": {
  "kernelspec": {
   "display_name": "Python 3",
   "language": "python",
   "name": "python3"
  },
  "language_info": {
   "codemirror_mode": {
    "name": "ipython",
    "version": 3
   },
   "file_extension": ".py",
   "mimetype": "text/x-python",
   "name": "python",
   "nbconvert_exporter": "python",
   "pygments_lexer": "ipython3",
   "version": "3.11.1"
  },
  "orig_nbformat": 4,
  "vscode": {
   "interpreter": {
    "hash": "767d51c1340bd893661ea55ea3124f6de3c7a262a8b4abca0554b478b1e2ff90"
   }
  }
 },
 "nbformat": 4,
 "nbformat_minor": 2
}
