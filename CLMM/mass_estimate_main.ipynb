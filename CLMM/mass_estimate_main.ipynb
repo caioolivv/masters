{
 "cells": [
  {
   "cell_type": "code",
   "execution_count": 1,
   "metadata": {},
   "outputs": [
    {
     "name": "stderr",
     "output_type": "stream",
     "text": [
      "\n",
      "WARNING: version mismatch between CFITSIO header (v40100) and linked library (v40000).\n",
      "\n",
      "\n",
      "WARNING: version mismatch between CFITSIO header (v40100) and linked library (v40000).\n",
      "\n",
      "\n",
      "WARNING: version mismatch between CFITSIO header (v40100) and linked library (v40000).\n",
      "\n"
     ]
    }
   ],
   "source": [
    "import os\n",
    "import sys\n",
    "import gi\n",
    "\n",
    "gi.require_version('NumCosmo', '1.0')\n",
    "gi.require_version('NumCosmoMath', '1.0')\n",
    "from gi.repository import GObject\n",
    "from gi.repository import NumCosmo as Nc\n",
    "from gi.repository import NumCosmoMath as Ncm\n",
    "\n",
    "os.environ['CLMM_MODELING_BACKEND'] = 'nc'\n",
    "\n",
    "__name__ = \"NcContext\"\n",
    "\n",
    "Ncm.cfg_init ()\n",
    "# Ncm.cfg_set_log_handler (lambda msg: sys.stdout.write (msg) and sys.stdout.flush ())\n",
    "\n",
    "try: import clmm\n",
    "except:\n",
    "    import notebook_install\n",
    "    notebook_install.install_clmm_pipeline(upgrade=False)\n",
    "    import clmm\n",
    "import matplotlib.pyplot as plt\n",
    "import numpy as np\n",
    "import time\n",
    "from datetime import timedelta\n",
    "from astropy import units\n",
    "from numpy import random\n",
    "plt.rcParams['font.family']=['gothambook','gotham','gotham-book','serif']\n",
    "\n",
    "import clmm.dataops as da\n",
    "import clmm.galaxycluster as gc\n",
    "import clmm.theory as theory\n",
    "from clmm import Cosmology\n",
    "from clmm.support import mock_data as mock\n",
    "from clmm.utils import convert_units"
   ]
  },
  {
   "cell_type": "code",
   "execution_count": 2,
   "metadata": {},
   "outputs": [],
   "source": [
    "np.random.seed(0)\n",
    "\n",
    "# Define cosmological parameters\n",
    "cosmo = Cosmology(H0 = 70.0, Omega_dm0 = 0.27 - 0.045, Omega_b0 = 0.045, Omega_k0 = 0.0)\n",
    "    \n",
    "cluster_m     = 1.e15 # Cluster mass\n",
    "cluster_z     = 0.4   # Cluster redshift\n",
    "concentration = 4     # Concentrion parameter NFW profile\n",
    "ngals         = 10000 # Number of galaxies\n",
    "Delta         = 200   # Overdensity parameter definition NFW profile\n",
    "cluster_ra    = 0.0   # Cluster right ascension\n",
    "cluster_dec   = 0.0   # Cluster declination\n",
    "shapenoise    = 1.e-3 # True ellipticity standard variation\n",
    "\n",
    "# Create galaxy catalog and Cluster object\n",
    "data = mock.generate_galaxy_catalog(cluster_m, cluster_z, concentration, cosmo, \"chang13\", zsrc_min = cluster_z + 0.1, shapenoise=shapenoise, photoz_sigma_unscaled=0.05, ngals=ngals, cluster_ra=cluster_ra, cluster_dec=cluster_dec)\n",
    "gc = clmm.GalaxyCluster(\"CL_noisy_z\", cluster_ra, cluster_dec, cluster_z, data)\n",
    "\n",
    "gc.compute_tangential_and_cross_components(geometry=\"flat\")\n",
    "radius = convert_units(gc.galcat['theta'], 'radians', 'Mpc', redshift=gc.z, cosmo=cosmo)\n",
    "\n",
    "# Create binning profile por binned methods\n",
    "bin_edges = da.make_bins(0.7, 4, 15, method=\"evenlog10width\")\n",
    "profile = gc.make_radial_profile(\"Mpc\", bins=bin_edges,cosmo=cosmo, gal_ids_in_bins=True)"
   ]
  },
  {
   "cell_type": "code",
   "execution_count": 3,
   "metadata": {},
   "outputs": [
    {
     "data": {
      "text/plain": [
       "NcContext.KDELikelihood"
      ]
     },
     "execution_count": 3,
     "metadata": {},
     "output_type": "execute_result"
    }
   ],
   "source": [
    "class KDELikelihood(Ncm.Data):\n",
    "\n",
    "    len = GObject.Property(type=GObject.TYPE_UINT, default=0, flags=GObject.PARAM_READWRITE)\n",
    "    dof = GObject.Property(type=GObject.TYPE_UINT, default=0, flags=GObject.PARAM_READWRITE)\n",
    "\n",
    "    r_source  = GObject.Property(type=Ncm.Vector, flags=GObject.PARAM_READWRITE)\n",
    "    z_source  = GObject.Property(type=Ncm.Vector, flags=GObject.PARAM_READWRITE)\n",
    "    z_cluster = GObject.Property(type=float,      flags=GObject.PARAM_READWRITE)\n",
    "    gt_source = GObject.Property(type=Ncm.Vector, flags=GObject.PARAM_READWRITE)\n",
    "    ell_t     = GObject.Property(type=Ncm.Vector, flags=GObject.PARAM_READWRITE)\n",
    "    true_var  = GObject.Property(type=float,      flags=GObject.PARAM_READWRITE)\n",
    "    bw_gt     = GObject.Property(type=float,      flags=GObject.PARAM_READWRITE)\n",
    "\n",
    "\n",
    "    def __init__(self, len=0):\n",
    "\n",
    "        Ncm.Data.__init__(self)\n",
    "        self.len = len\n",
    "        self.dof = 2\n",
    "        self.moo = clmm.Modeling()\n",
    "\n",
    "\n",
    "    def init_from_data(self, r_source, z_source, z_cluster, ell_t, true_var, moo):\n",
    "\n",
    "        self.props.r_source  = Ncm.Vector.new_array(r_source)\n",
    "        self.props.z_source  = Ncm.Vector.new_array(z_source)\n",
    "        self.props.z_cluster = z_cluster\n",
    "        self.props.ell_t     = Ncm.Vector.new_array(ell_t)\n",
    "        self.props.true_var  = true_var\n",
    "\n",
    "        self.len = len(r_source)\n",
    "        self.moo = moo\n",
    "\n",
    "        self.set_init(True)\n",
    "\n",
    "\n",
    "    def do_get_length (self):\n",
    "\n",
    "        return self.len\n",
    "\n",
    "\n",
    "    def do_get_dof (self):\n",
    "\n",
    "        return self.dof\n",
    "\n",
    "\n",
    "    def do_begin(self):\n",
    "\n",
    "        return\n",
    "\n",
    "\n",
    "    def do_prepare(self, mset):\n",
    "\n",
    "        self.dof = mset.fparams_len()\n",
    "        self.moo.set_mset(mset)\n",
    "        return\n",
    "\n",
    "\n",
    "    def do_resample(self, mset, rng):\n",
    "        # i'm not doing resample right now\n",
    "        return\n",
    "\n",
    "\n",
    "    def do_m2lnL_val(self, mset):\n",
    "        \n",
    "        self.props.gt_source = Ncm.Vector.new_array(self.moo.eval_reduced_tangential_shear(self.props.r_source.dup_array(), self.props.z_cluster, self.props.z_source.dup_array()))\n",
    "        # print(self.props.gt_source.dup_array())\n",
    "        \n",
    "        iqr = np.subtract(*np.percentile(self.props.gt_source.dup_array(), [75, 25]))\n",
    "        bw = 0.9 * min(np.std(self.props.gt_source.dup_array()), iqr/1.34) * self.len**(-1/5)\n",
    "        # Ncm.StatsDist1dEPDFBw.FIXED=np.sqrt(bw**2 + self.props.true_var**2)\n",
    "\n",
    "        likelihood_kde = Ncm.StatsDist1dEPDF.new_full(2000, Ncm.StatsDist1dEPDFBw.FIXED, 1, 0.001)\n",
    "\n",
    "        likelihood_kde.props.h_fixed = np.sqrt(bw**2 + self.props.true_var**2)\n",
    "\n",
    "        for gt in self.props.gt_source.dup_array():\n",
    "            if gt !=0:\n",
    "                likelihood_kde.add_obs(gt)\n",
    "        \n",
    "        likelihood_kde.prepare()\n",
    "\n",
    "        m2lnL = 0\n",
    "\n",
    "        for et in self.props.ell_t.dup_array():\n",
    "            p = likelihood_kde.eval_p(et)\n",
    "            if p != 0:\n",
    "                m2lnL += np.log(likelihood_kde.eval_p(et))\n",
    "        \n",
    "        m2lnL *= -2 \n",
    "\n",
    "        return m2lnL\n",
    "\n",
    "GObject.type_register(KDELikelihood)"
   ]
  },
  {
   "cell_type": "code",
   "execution_count": 4,
   "metadata": {},
   "outputs": [],
   "source": [
    "moo = clmm.Modeling(massdef='mean', delta_mdef=200, halo_profile_model='nfw')\n",
    "moo.set_cosmo(cosmo)\n",
    "\n",
    "kdelikelihood_data = KDELikelihood()\n",
    "\n",
    "kdelikelihood_data.init_from_data(r_source=radius, z_source=gc.galcat['z'], z_cluster=gc.z, ell_t=gc.galcat['et'], true_var=shapenoise, moo=moo)\n",
    "\n",
    "mset = kdelikelihood_data.moo.get_mset()\n",
    "\n",
    "MDelta_pi = mset.param_get_by_full_name('NcHaloDensityProfile:log10MDelta')\n",
    "cDelta_pi = mset.param_get_by_full_name('NcHaloDensityProfile:cDelta')\n",
    "\n",
    "mset.param_set_ftype(MDelta_pi.mid, MDelta_pi.pid, Ncm.ParamType.FREE)\n",
    "mset.param_set_ftype(cDelta_pi.mid, cDelta_pi.pid, Ncm.ParamType.FREE)\n",
    "mset.prepare_fparam_map()\n",
    "\n",
    "dset = Ncm.Dataset.new()\n",
    "dset.append_data(kdelikelihood_data)\n",
    "lh = Ncm.Likelihood.new(dset)"
   ]
  },
  {
   "cell_type": "code",
   "execution_count": 5,
   "metadata": {},
   "outputs": [
    {
     "name": "stdout",
     "output_type": "stream",
     "text": [
      "#----------------------------------------------------------------------------------\n",
      "# Model fitting. Interating using:\n",
      "#  - solver:            NLOpt:ln-neldermead\n",
      "#  - differentiation:   Numerical differentiantion (forward)\n",
      "#...."
     ]
    },
    {
     "name": "stderr",
     "output_type": "stream",
     "text": [
      "\n",
      "(process:198597): NUMCOSMO-WARNING **: 00:31:01.011: ncm_ode_spline_prepare: system has saturated at `     0.548303311483229' before attaining the required final value `      2.46959689255178'.\n"
     ]
    },
    {
     "name": "stdout",
     "output_type": "stream",
     "text": [
      ".."
     ]
    },
    {
     "name": "stderr",
     "output_type": "stream",
     "text": [
      "\n",
      "(process:198597): NUMCOSMO-WARNING **: 00:31:01.731: ncm_ode_spline_prepare: system has saturated at `     0.334996942412877' before attaining the required final value `     0.474418887393326'.\n"
     ]
    },
    {
     "name": "stdout",
     "output_type": "stream",
     "text": [
      "."
     ]
    },
    {
     "name": "stderr",
     "output_type": "stream",
     "text": [
      "\n",
      "(process:198597): NUMCOSMO-WARNING **: 00:31:02.047: ncm_ode_spline_prepare: system has saturated at `     0.567126444907897' before attaining the required final value `      3.16923391191704'.\n"
     ]
    },
    {
     "name": "stdout",
     "output_type": "stream",
     "text": [
      "..."
     ]
    },
    {
     "name": "stderr",
     "output_type": "stream",
     "text": [
      "\n",
      "(process:198597): NUMCOSMO-WARNING **: 00:31:03.157: ncm_ode_spline_prepare: system has saturated at `     0.249649139016144' before attaining the required final value `     0.365181797791101'.\n",
      "\n",
      "(process:198597): NUMCOSMO-WARNING **: 00:31:03.538: ncm_ode_spline_prepare: system has saturated at `     0.273291109164973' before attaining the required final value `     0.335727571135987'.\n",
      "\n",
      "(process:198597): NUMCOSMO-WARNING **: 00:31:06.573: ncm_ode_spline_prepare: system has saturated at `     0.291079570978805' before attaining the required final value `       0.3745180233342'.\n"
     ]
    },
    {
     "name": "stdout",
     "output_type": "stream",
     "text": [
      "."
     ]
    },
    {
     "name": "stderr",
     "output_type": "stream",
     "text": [
      "\n",
      "(process:198597): NUMCOSMO-WARNING **: 00:31:08.093: ncm_ode_spline_prepare: system has saturated at `      0.25232009672755' before attaining the required final value `     0.371586600350789'.\n",
      "\n",
      "(process:198597): NUMCOSMO-WARNING **: 00:31:09.228: ncm_ode_spline_prepare: system has saturated at `      0.24790298513032' before attaining the required final value `     0.358356964542995'.\n",
      "\n",
      "(process:198597): NUMCOSMO-WARNING **: 00:31:09.598: ncm_ode_spline_prepare: system has saturated at `     0.286908955197374' before attaining the required final value `     0.361245706121313'.\n",
      "\n",
      "(process:198597): NUMCOSMO-WARNING **: 00:31:10.352: ncm_ode_spline_prepare: system has saturated at `     0.284087257199761' before attaining the required final value `     0.355392323344099'.\n"
     ]
    },
    {
     "name": "stdout",
     "output_type": "stream",
     "text": [
      "."
     ]
    },
    {
     "name": "stderr",
     "output_type": "stream",
     "text": [
      "\n",
      "(process:198597): NUMCOSMO-WARNING **: 00:31:12.967: ncm_ode_spline_prepare: system has saturated at `     0.248786036863389' before attaining the required final value `     0.361156316156524'.\n"
     ]
    },
    {
     "name": "stdout",
     "output_type": "stream",
     "text": [
      "."
     ]
    },
    {
     "name": "stderr",
     "output_type": "stream",
     "text": [
      "\n",
      "(process:198597): NUMCOSMO-WARNING **: 00:31:14.506: ncm_ode_spline_prepare: system has saturated at `     0.248782577990385' before attaining the required final value `     0.361323095641772'.\n",
      "\n",
      "(process:198597): NUMCOSMO-WARNING **: 00:31:15.631: ncm_ode_spline_prepare: system has saturated at `     0.248717814617914' before attaining the required final value `     0.360939358739037'.\n",
      "\n",
      "(process:198597): NUMCOSMO-WARNING **: 00:31:15.988: ncm_ode_spline_prepare: system has saturated at `     0.248751516581555' before attaining the required final value `     0.361089897364252'.\n",
      "\n",
      "(process:198597): NUMCOSMO-WARNING **: 00:31:16.741: ncm_ode_spline_prepare: system has saturated at `     0.285833724794639' before attaining the required final value `     0.361181616953447'.\n",
      "\n",
      "(process:198597): NUMCOSMO-WARNING **: 00:31:17.466: ncm_ode_spline_prepare: system has saturated at `     0.248784528532808' before attaining the required final value `     0.361240000300518'.\n"
     ]
    },
    {
     "name": "stdout",
     "output_type": "stream",
     "text": [
      "."
     ]
    },
    {
     "name": "stderr",
     "output_type": "stream",
     "text": [
      "\n",
      "(process:198597): NUMCOSMO-WARNING **: 00:31:18.606: ncm_ode_spline_prepare: system has saturated at `     0.285803501758402' before attaining the required final value `      0.36126499005269'.\n",
      "\n",
      "(process:198597): NUMCOSMO-WARNING **: 00:31:19.000: ncm_ode_spline_prepare: system has saturated at `     0.248783612629471' before attaining the required final value `     0.361281621549516'.\n",
      "\n",
      "(process:198597): NUMCOSMO-WARNING **: 00:31:19.714: ncm_ode_spline_prepare: system has saturated at `     0.248779053887134' before attaining the required final value `     0.361283686926099'.\n",
      "\n",
      "(process:198597): NUMCOSMO-WARNING **: 00:31:21.177: ncm_ode_spline_prepare: system has saturated at `     0.285806019773265' before attaining the required final value `     0.361302376987475'.\n",
      "\n",
      "(process:198597): NUMCOSMO-WARNING **: 00:31:21.539: ncm_ode_spline_prepare: system has saturated at `     0.285802836618429' before attaining the required final value `     0.361322079307685'.\n"
     ]
    },
    {
     "name": "stdout",
     "output_type": "stream",
     "text": [
      "."
     ]
    },
    {
     "name": "stderr",
     "output_type": "stream",
     "text": [
      "\n",
      "(process:198597): NUMCOSMO-WARNING **: 00:31:22.985: ncm_ode_spline_prepare: system has saturated at `      0.28580221150211' before attaining the required final value `     0.361312740912236'.\n",
      "\n",
      "(process:198597): NUMCOSMO-WARNING **: 00:31:23.739: ncm_ode_spline_prepare: system has saturated at `     0.285800461243502' before attaining the required final value `     0.361320253674839'.\n",
      "\n",
      "(process:198597): NUMCOSMO-WARNING **: 00:31:24.843: ncm_ode_spline_prepare: system has saturated at `      0.24878289768815' before attaining the required final value `     0.361321674831432'.\n"
     ]
    },
    {
     "name": "stdout",
     "output_type": "stream",
     "text": [
      ".\n"
     ]
    },
    {
     "name": "stderr",
     "output_type": "stream",
     "text": [
      "\n",
      "(process:198597): NUMCOSMO-WARNING **: 00:31:25.607: ncm_ode_spline_prepare: system has saturated at `     0.248782577990385' before attaining the required final value `     0.361323095641772'.\n"
     ]
    },
    {
     "data": {
      "text/plain": [
       "True"
      ]
     },
     "execution_count": 5,
     "metadata": {},
     "output_type": "execute_result"
    },
    {
     "name": "stdout",
     "output_type": "stream",
     "text": [
      "#  Minimum found with precision: |df|/f =  1.00000e-08 and |dx| =  1.00000e-05\n",
      "#  Elapsed time: 00 days, 00:00:26.8714030\n",
      "#  iteration            [000070]\n",
      "#  function evaluations [000072]\n",
      "#  gradient evaluations [000000]\n",
      "#  degrees of freedom   [000000]\n",
      "#  m2lnL     =    -65780.7580617213 (    -65780.758 )\n",
      "#  Fit parameters:\n",
      "#     3.91985637545586     15.0017410671552    \n"
     ]
    }
   ],
   "source": [
    "fit = Ncm.Fit.new(Ncm.FitType.NLOPT, 'ln-neldermead', lh, mset, Ncm.FitGradType.NUMDIFF_FORWARD)\n",
    "\n",
    "fit.run(Ncm.FitRunMsgs.SIMPLE)\n",
    "# fit.fisher()\n",
    "# fit.log_info()\n",
    "# fit.log_covar()"
   ]
  },
  {
   "cell_type": "code",
   "execution_count": null,
   "metadata": {},
   "outputs": [],
   "source": []
  }
 ],
 "metadata": {
  "kernelspec": {
   "display_name": "Python 3.10.7 64-bit",
   "language": "python",
   "name": "python3"
  },
  "language_info": {
   "codemirror_mode": {
    "name": "ipython",
    "version": 3
   },
   "file_extension": ".py",
   "mimetype": "text/x-python",
   "name": "python",
   "nbconvert_exporter": "python",
   "pygments_lexer": "ipython3",
   "version": "3.10.7"
  },
  "orig_nbformat": 4,
  "vscode": {
   "interpreter": {
    "hash": "e7370f93d1d0cde622a1f8e1c04877d8463912d04d973331ad4851f04de6915a"
   }
  }
 },
 "nbformat": 4,
 "nbformat_minor": 2
}
