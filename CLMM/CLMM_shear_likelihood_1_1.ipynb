{
 "cells": [
  {
   "cell_type": "markdown",
   "metadata": {},
   "source": [
    "# Shear Likelihood 1.1"
   ]
  },
  {
   "cell_type": "markdown",
   "metadata": {},
   "source": [
    "### Preparing necessary libraries"
   ]
  },
  {
   "cell_type": "code",
   "execution_count": 1,
   "metadata": {},
   "outputs": [],
   "source": [
    "import os\n",
    "import sys\n",
    "import gi\n",
    "\n",
    "gi.require_version('NumCosmo', '1.0')\n",
    "gi.require_version('NumCosmoMath', '1.0')\n",
    "from gi.repository import GObject\n",
    "from gi.repository import NumCosmo as Nc\n",
    "from gi.repository import NumCosmoMath as Ncm\n",
    "\n",
    "os.environ['CLMM_MODELING_BACKEND'] = 'nc'\n",
    "\n",
    "__name__ = \"NcContext\"\n",
    "\n",
    "Ncm.cfg_init ()\n",
    "Ncm.cfg_set_log_handler (lambda msg: sys.stdout.write (msg) and sys.stdout.flush ())\n",
    "\n",
    "try: import clmm\n",
    "except:\n",
    "    import notebook_install\n",
    "    notebook_install.install_clmm_pipeline(upgrade=False)\n",
    "    import clmm\n",
    "import matplotlib.pyplot as plt\n",
    "import numpy as np\n",
    "from astropy import units\n",
    "from numpy import random\n",
    "plt.rcParams['font.family']=['gothambook','gotham','gotham-book','serif']\n",
    "\n",
    "import clmm.dataops as da\n",
    "import clmm.galaxycluster as gc\n",
    "import clmm.theory as theory\n",
    "from clmm import Cosmology\n",
    "from clmm.support import mock_data as mock\n",
    "from clmm.utils import convert_units"
   ]
  },
  {
   "cell_type": "markdown",
   "metadata": {},
   "source": [
    "### Creating mock data"
   ]
  },
  {
   "cell_type": "code",
   "execution_count": 2,
   "metadata": {},
   "outputs": [],
   "source": [
    "np.random.seed(11)\n",
    "\n",
    "cosmo = Cosmology(H0 = 70.0, Omega_dm0 = 0.27 - 0.045, Omega_b0 = 0.045, Omega_k0 = 0.0)\n",
    "\n",
    "cluster_m     = 1.e15\n",
    "logm = np.log(cluster_m)/np.log(10)\n",
    "cluster_z     = 0.4\n",
    "concentration = 4\n",
    "ngals         = 10000\n",
    "Delta         = 200\n",
    "cluster_ra    = 0.0\n",
    "cluster_dec   = 90.0\n",
    "\n",
    "ideal_data   = mock.generate_galaxy_catalog(cluster_m, cluster_z, concentration, cosmo, 0.8, zsrc_min = cluster_z + 0.1, shapenoise=0.005, ngals=ngals, cluster_ra=cluster_ra, cluster_dec=cluster_dec)\n",
    "ideal_data_z = mock.generate_galaxy_catalog(cluster_m, cluster_z, concentration, cosmo,'chang13', zsrc_min = cluster_z + 0.1, shapenoise=0.005, ngals=ngals, cluster_ra=cluster_ra, cluster_dec=cluster_dec)\n",
    "noisy_data_z = mock.generate_galaxy_catalog(cluster_m, cluster_z, concentration, cosmo, 'chang13', zsrc_min = cluster_z + 0.1, shapenoise=0.005, photoz_sigma_unscaled=0.05, ngals=ngals, cluster_ra=cluster_ra, cluster_dec=cluster_dec)\n",
    "\n",
    "gc_ideal   = clmm.GalaxyCluster(\"CL_ideal\", cluster_ra, cluster_dec, cluster_z, ideal_data)\n",
    "gc_ideal_z = clmm.GalaxyCluster(\"CL_ideal_z\", cluster_ra, cluster_dec, cluster_z, ideal_data_z)\n",
    "gc_noisy_z = clmm.GalaxyCluster(\"CL_noisy_z\", cluster_ra, cluster_dec, cluster_z, noisy_data_z)\n"
   ]
  },
  {
   "cell_type": "markdown",
   "metadata": {},
   "source": [
    "### Calculating observables"
   ]
  },
  {
   "cell_type": "code",
   "execution_count": 3,
   "metadata": {},
   "outputs": [],
   "source": [
    "theta_ideal, gt_ideal, gx_ideal       = gc_ideal.compute_tangential_and_cross_components(geometry=\"flat\")\n",
    "theta_ideal_z, gt_ideal_z, gx_ideal_z = gc_ideal_z.compute_tangential_and_cross_components(geometry=\"flat\")\n",
    "theta_noisy_z, gt_noisy_z, gx_noisy_z = gc_noisy_z.compute_tangential_and_cross_components(geometry=\"flat\")\n",
    "\n",
    "# Convert from theta to radius\n",
    "radius_ideal, radius_ideal_z, radius_noisy_z = [convert_units(gc.galcat['theta'], 'radians', 'Mpc', redshift=cluster_z, cosmo=cosmo) for gc in [gc_ideal, gc_ideal_z, gc_noisy_z]]"
   ]
  },
  {
   "cell_type": "code",
   "execution_count": 4,
   "metadata": {},
   "outputs": [
    {
     "data": {
      "text/html": [
       "<b>GCData</b><br> <b>defined by:</b> cosmo=None<br> <b>with columns:</b> ra, dec, e1, e2, z, ztrue, id, theta, et, ex<br> 10000 objects<br> \n",
       "<table id=\"table139918228783008\" class=\"table-striped table-bordered table-condensed\">\n",
       "<thead><tr><th>ra</th><th>dec</th><th>e1</th><th>e2</th><th>z</th><th>ztrue</th><th>id</th><th>theta</th><th>et</th><th>ex</th></tr></thead>\n",
       "<thead><tr><th>float64</th><th>float64</th><th>float64</th><th>float64</th><th>float64</th><th>float64</th><th>int64</th><th>float64</th><th>float64</th><th>float64</th></tr></thead>\n",
       "<tr><td>46.29184640208061</td><td>89.81856252394499</td><td>0.002612093914611752</td><td>-0.003269453109598035</td><td>0.8</td><td>0.8</td><td>0</td><td>0.0031666813436682876</td><td>0.002612093914611855</td><td>-0.003269453109597953</td></tr>\n",
       "<tr><td>51.52862138011059</td><td>89.74823160545624</td><td>0.001749494204237913</td><td>-0.0065094656730693085</td><td>0.8</td><td>0.8</td><td>1</td><td>0.004394187437248733</td><td>0.0017494942042380768</td><td>-0.006509465673069264</td></tr>\n",
       "<tr><td>13.525811539094493</td><td>89.935489123421</td><td>0.026024166310292234</td><td>-0.014441727978658005</td><td>0.8</td><td>0.8</td><td>2</td><td>0.001125927199651368</td><td>0.026024166310292605</td><td>-0.014441727978657337</td></tr>\n",
       "<tr><td>280.07334896586775</td><td>89.90628582827307</td><td>-0.01624742804700041</td><td>0.009668504599943152</td><td>0.8</td><td>0.8</td><td>3</td><td>0.0016356208524143064</td><td>-0.0162474280469994</td><td>0.00966850459994485</td></tr>\n",
       "<tr><td>169.61950641689276</td><td>89.81833621996996</td><td>0.013009526604655269</td><td>-0.001962058910037325</td><td>0.8</td><td>0.8</td><td>4</td><td>0.0031706310931428443</td><td>0.013009526604655493</td><td>-0.001962058910035836</td></tr>\n",
       "<tr><td>2.7726261532263266</td><td>89.87641960764591</td><td>0.00993025951018321</td><td>-0.008913464017741934</td><td>0.8</td><td>0.8</td><td>5</td><td>0.0021568847374852213</td><td>0.009930259510183233</td><td>-0.008913464017741908</td></tr>\n",
       "<tr><td>80.09407872148873</td><td>89.7971144556942</td><td>-0.0037674209151077093</td><td>-0.0045697537518534</td><td>0.8</td><td>0.8</td><td>6</td><td>0.003541020752837054</td><td>-0.0037674209151074885</td><td>-0.004569753751853582</td></tr>\n",
       "<tr><td>150.78293301065207</td><td>89.98938731813249</td><td>0.03905111642495602</td><td>0.07641201874549532</td><td>0.8</td><td>0.8</td><td>7</td><td>0.00018522624105481346</td><td>0.039051116424823076</td><td>0.07641201874556326</td></tr>\n",
       "<tr><td>273.70123343891686</td><td>89.81838889474838</td><td>-0.008856990642359801</td><td>0.0015130769889717286</td><td>0.8</td><td>0.8</td><td>8</td><td>0.0031697117448267194</td><td>-0.008856990642359713</td><td>0.001513076988972245</td></tr>\n",
       "<tr><td>306.0542732723949</td><td>89.82200904447768</td><td>0.0065843835446038074</td><td>0.007270042146737229</td><td>0.8</td><td>0.8</td><td>9</td><td>0.003106528212635241</td><td>0.006584383544604076</td><td>0.007270042146736985</td></tr>\n",
       "<tr><td>...</td><td>...</td><td>...</td><td>...</td><td>...</td><td>...</td><td>...</td><td>...</td><td>...</td><td>...</td></tr>\n",
       "<tr><td>202.02408311349427</td><td>89.81736330588387</td><td>0.004745105082186941</td><td>-0.004221478374318377</td><td>0.8</td><td>0.8</td><td>9990</td><td>0.003187611647284168</td><td>0.004745105082186494</td><td>-0.00422147837431888</td></tr>\n",
       "<tr><td>242.99620565670529</td><td>89.90003613470613</td><td>-0.019724046466948243</td><td>-0.013455553752850366</td><td>0.8</td><td>0.8</td><td>9991</td><td>0.0017446985823981694</td><td>-0.019724046466950168</td><td>-0.013455553752847543</td></tr>\n",
       "<tr><td>235.9947518273364</td><td>89.78975818385959</td><td>-0.010230252293333906</td><td>-0.0006337359681591921</td><td>0.8</td><td>0.8</td><td>9992</td><td>0.003669411917022716</td><td>-0.010230252293333951</td><td>-0.0006337359681584548</td></tr>\n",
       "<tr><td>154.58071928104994</td><td>89.82143793743309</td><td>0.007083312838443514</td><td>-0.00012602549050324725</td><td>0.8</td><td>0.8</td><td>9993</td><td>0.0031164959109447163</td><td>0.007083312838443527</td><td>-0.0001260254905024963</td></tr>\n",
       "<tr><td>14.981531046774279</td><td>89.99482360826094</td><td>0.09927167807393505</td><td>-0.05694747005012735</td><td>0.8</td><td>0.8</td><td>9994</td><td>9.034507921956113e-05</td><td>0.09927167807395523</td><td>-0.05694747005009218</td></tr>\n",
       "<tr><td>86.56803338797079</td><td>89.84735786754709</td><td>-0.00481413761042659</td><td>-0.004884928716807504</td><td>0.8</td><td>0.8</td><td>9995</td><td>0.0026641077885685856</td><td>-0.00481413761042625</td><td>-0.004884928716807839</td></tr>\n",
       "<tr><td>116.0742692861635</td><td>89.82940825052141</td><td>-0.010317418893885592</td><td>0.014619425290958034</td><td>0.8</td><td>0.8</td><td>9996</td><td>0.002977387705138704</td><td>-0.010317418893886812</td><td>0.014619425290957173</td></tr>\n",
       "<tr><td>321.5069200779444</td><td>89.84064428642999</td><td>0.005832595364818879</td><td>0.013719378884947012</td><td>0.8</td><td>0.8</td><td>9997</td><td>0.0027812818836616487</td><td>0.005832595364819284</td><td>0.01371937888494684</td></tr>\n",
       "<tr><td>243.13304397142346</td><td>89.8975944534319</td><td>-0.012219555327662708</td><td>-0.006434217426806334</td><td>0.8</td><td>0.8</td><td>9998</td><td>0.001787313959917604</td><td>-0.012219555327663606</td><td>-0.006434217426804629</td></tr>\n",
       "<tr><td>66.89429527445051</td><td>89.81081681746141</td><td>-0.005318344418524097</td><td>-0.010764298976415934</td><td>0.8</td><td>0.8</td><td>9999</td><td>0.003301869424699753</td><td>-0.00531834441852363</td><td>-0.010764298976416165</td></tr>\n",
       "</table></div>"
      ],
      "text/plain": [
       "GCData(cosmo=None, columns: ra, dec, e1, e2, z, ztrue, id, theta, et, ex)"
      ]
     },
     "execution_count": 4,
     "metadata": {},
     "output_type": "execute_result"
    }
   ],
   "source": [
    "gc_ideal.galcat"
   ]
  },
  {
   "cell_type": "markdown",
   "metadata": {},
   "source": [
    "### Binning the data"
   ]
  },
  {
   "cell_type": "code",
   "execution_count": 5,
   "metadata": {},
   "outputs": [
    {
     "name": "stderr",
     "output_type": "stream",
     "text": [
      "/home/caiooliveira/.local/lib/python3.10/site-packages/clmm-1.1.10-py3.10.egg/clmm/utils.py:176: RuntimeWarning: invalid value encountered in sqrt\n"
     ]
    }
   ],
   "source": [
    "bin_edges = da.make_bins(0.7, 4, 15, method='evenlog10width')\n",
    "\n",
    "profile_ideal   = gc_ideal.make_radial_profile(\"Mpc\", bins=bin_edges,cosmo=cosmo, gal_ids_in_bins=True)\n",
    "profile_ideal_z = gc_ideal_z.make_radial_profile(\"Mpc\", bins=bin_edges,cosmo=cosmo, gal_ids_in_bins=True)\n",
    "profile_noisy_z = gc_noisy_z.make_radial_profile(\"Mpc\", bins=bin_edges,cosmo=cosmo, gal_ids_in_bins=True)\n",
    "\n",
    "profiles = [profile_ideal, profile_ideal_z, profile_noisy_z]"
   ]
  },
  {
   "cell_type": "code",
   "execution_count": 6,
   "metadata": {},
   "outputs": [
    {
     "name": "stdout",
     "output_type": "stream",
     "text": [
      "7597\n",
      "7597\n"
     ]
    }
   ],
   "source": [
    "print(sum(r <= 4. and r >= 0.7 for r in radius_ideal))\n",
    "print(sum([len(profile_ideal[i]['gal_id']) for i in range(0,15)]))"
   ]
  },
  {
   "cell_type": "markdown",
   "metadata": {},
   "source": [
    "### Calculating Likelihood"
   ]
  },
  {
   "cell_type": "markdown",
   "metadata": {},
   "source": [
    "The measured shear $g^i_t$ is given by \n",
    "\n",
    "$$ g^i_t = g^{I,i}_t + g^{L,i}_t $$\n",
    "\n",
    "where $g^{I,i}_t$ is the intrisic shear and $g^{L,i}_t$ is the lensing shear. Assuming that the intrinsic shear is drawn from a normal distribution with average 0 and variance $\\sigma_{g^I_t}^2$, the probability of measuring $g^i_t$, given a certain $r$, $z$ and other cosmological parameters $\\vec{\\theta_c}$ is given by\n",
    "\n",
    "$$ P(g^i_t | r, z, \\vec{\\theta_c}) = \\frac{1}{\\sqrt{2\\pi}\\sigma_{g^I_t}} \\exp\\left[\\frac{-(g^i_t - g^{L,i}_t(r,z,\\vec{\\theta_c}))^2}{2\\sigma_{g^I_t}^2}\\right] $$\n",
    "Then, to find the likelihood of the set of all $\\{g^i_t\\}_i^{N}$ measured, we perform the following integral for all $g^i_t$:\n",
    "\n",
    "$$ P(g^i_t | \\vec{\\theta_c}) = \\int_0^{r_{max}} \\int_{z_{cluster}}^{\\infty} \\mathcal{d}r \\mathcal{d}z P(g^i_t | r, z, \\vec{\\theta_c}) P(r) P(z) $$\n",
    "\n",
    "where $P(r)$ and $P(z)$ are the distributions for $r$ and $z$.\n",
    "\n",
    "This is a computationally expensive process though. To avoid it, we bin the data. We then have to perform the same integrals, but for each bin (and their average shear $\\bar{g}^i_t$). At this moment we'll choose to not calculate them, and instead use an estimator for the bin likelihood\n",
    "\n",
    "$$ \\mathcal{L}_i = \\tilde{P}(\\bar{g}^i_t | \\vec{\\theta_c}) = \\frac{1}{N_i} \\sum_j^{N_i} P(\\bar{g}^i_t | r_j, z_j, \\vec{\\theta_c}) $$\n",
    "\n",
    "where $N_i$ is the number of galaxies in the bin. The total likelihood is then\n",
    "\n",
    "$$ \\mathcal{L} = \\prod_i^M \\mathcal{L}_i = \\prod_i^M \\left[ \\frac{1}{N_i} \\sum_j^{N_i} P(\\bar{g}^i_t | r_j, z_j, \\vec{\\theta_c}) \\right] $$\n",
    "\n",
    "and $M$ is the total number of bins."
   ]
  },
  {
   "cell_type": "code",
   "execution_count": 7,
   "metadata": {},
   "outputs": [],
   "source": [
    "def shear_probability(gt_obs, gt_th, sigma):\n",
    "\n",
    "    return np.exp(-np.power(np.subtract(gt_obs, gt_th), 2)/2/sigma**2)/np.sqrt(2*np.pi)/sigma"
   ]
  },
  {
   "cell_type": "code",
   "execution_count": 8,
   "metadata": {},
   "outputs": [],
   "source": [
    "def shear_log_likelihood(gc, shapenoise, cosmo, sigma=1, m=1.e15, concentration=4, delta=200, model='nfw'):\n",
    "\n",
    "    n_bins = len(gc.profile)\n",
    "    cluster_z = gc.z\n",
    "    likelihood = 0\n",
    "\n",
    "    gal_z = gc.galcat['z']\n",
    "    gal_r = convert_units(gc.galcat['theta'], 'radians', 'Mpc', redshift=cluster_z, cosmo=cosmo)\n",
    "    gt_th = clmm.compute_reduced_tangential_shear(gal_r, m, concentration, cluster_z, gal_z, cosmo, delta_mdef=200, halo_profile_model=model)\n",
    "\n",
    "    likelihood = 0\n",
    "\n",
    "    for i in range(n_bins):\n",
    "\n",
    "        gal_bin = gc.profile['gal_id'][i]\n",
    "        gt_th_bin = [gt_th[gal_id] for gal_id in gal_bin]\n",
    "        avg_gt_obs_bin = gc.profile['gt'][i]\n",
    "\n",
    "        shear_prob_bin = np.mean(shear_probability(avg_gt_obs_bin, gt_th_bin, shapenoise))\n",
    "        likelihood += np.log(shear_prob_bin)\n",
    "\n",
    "    return -2*likelihood"
   ]
  },
  {
   "cell_type": "code",
   "execution_count": 9,
   "metadata": {},
   "outputs": [
    {
     "data": {
      "text/plain": [
       "320.1247629706557"
      ]
     },
     "execution_count": 9,
     "metadata": {},
     "output_type": "execute_result"
    }
   ],
   "source": [
    "shear_log_likelihood(gc_ideal, 0.005, cosmo)"
   ]
  },
  {
   "cell_type": "code",
   "execution_count": null,
   "metadata": {},
   "outputs": [],
   "source": []
  }
 ],
 "metadata": {
  "kernelspec": {
   "display_name": "Python 3.10.5 64-bit",
   "language": "python",
   "name": "python3"
  },
  "language_info": {
   "codemirror_mode": {
    "name": "ipython",
    "version": 3
   },
   "file_extension": ".py",
   "mimetype": "text/x-python",
   "name": "python",
   "nbconvert_exporter": "python",
   "pygments_lexer": "ipython3",
   "version": "3.10.5"
  },
  "orig_nbformat": 4,
  "vscode": {
   "interpreter": {
    "hash": "e7370f93d1d0cde622a1f8e1c04877d8463912d04d973331ad4851f04de6915a"
   }
  }
 },
 "nbformat": 4,
 "nbformat_minor": 2
}
