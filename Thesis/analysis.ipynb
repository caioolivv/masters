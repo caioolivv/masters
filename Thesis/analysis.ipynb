{
 "cells": [
  {
   "cell_type": "code",
   "execution_count": 121,
   "metadata": {},
   "outputs": [],
   "source": [
    "import numpy as np\n",
    "import matplotlib.pyplot as plt\n",
    "import sampler as sampler\n",
    "import scipy.integrate as integrate\n",
    "from scipy.misc import derivative\n",
    "import nlopt\n",
    "# from numpy import *"
   ]
  },
  {
   "cell_type": "markdown",
   "metadata": {},
   "source": [
    "### Step 1\n",
    "\n",
    "Create underlying distribution"
   ]
  },
  {
   "cell_type": "code",
   "execution_count": 122,
   "metadata": {},
   "outputs": [],
   "source": [
    "def distribution(x):\n",
    "    return np.exp(-(x-6)**2/2)/np.sqrt(2*np.pi)"
   ]
  },
  {
   "cell_type": "markdown",
   "metadata": {},
   "source": [
    "### Step 2\n",
    "\n",
    "Take 1000 samples"
   ]
  },
  {
   "cell_type": "code",
   "execution_count": 123,
   "metadata": {},
   "outputs": [],
   "source": [
    "distribution_sampler = sampler.Sampler(distribution, 1000)\n",
    "samples = distribution_sampler.sample(1000)"
   ]
  },
  {
   "cell_type": "markdown",
   "metadata": {},
   "source": [
    "### Step 3\n",
    "\n",
    "Create bins (at the moment I'm creating fixed bins that will not depend on the samples, but I'll try something different later)"
   ]
  },
  {
   "cell_type": "code",
   "execution_count": 124,
   "metadata": {},
   "outputs": [],
   "source": [
    "lower_bound, upper_bound = distribution_sampler.integral.get_end_points()\n",
    "bins = np.linspace(lower_bound+3, upper_bound-3, 201)"
   ]
  },
  {
   "cell_type": "code",
   "execution_count": 125,
   "metadata": {},
   "outputs": [],
   "source": [
    "histogram = []\n",
    "\n",
    "for i in range(1, len(bins)):\n",
    "    num = 0\n",
    "    for sample in samples:\n",
    "        if sample > bins[i-1] and sample < bins[i]:\n",
    "            num += 1\n",
    "    histogram.append(num)\n",
    "\n"
   ]
  },
  {
   "cell_type": "markdown",
   "metadata": {},
   "source": [
    "### Step 4\n",
    "\n",
    "Create likelihoods. Right: Multinomial. Approximations: Poisson, Gaussian\n",
    "\n",
    "Multinomial: $L_{MN} (x|\\mu) = \\left( {\\begin{array}{c}  M \\\\ n_1!n_2!...n_N! \\end{array} } \\right) {\\displaystyle \\prod_{i=1}^{N} P(x|\\mu)^{n_i} }$"
   ]
  },
  {
   "cell_type": "code",
   "execution_count": 126,
   "metadata": {},
   "outputs": [],
   "source": [
    "def mn_log_likelihood(avg, grad):\n",
    "\n",
    "    # print(avg)\n",
    "    # print(grad)\n",
    "    mu = avg[0]\n",
    "\n",
    "    def gaussian(x, y):\n",
    "        return np.exp(-(x - y)**2)/np.sqrt(2*np.pi)\n",
    "\n",
    "    likelihood = 0\n",
    "    for i in range(len(histogram)):\n",
    "        likelihood += histogram[i]*np.log(integrate.quad(gaussian, bins[i], bins[i+1], args=(mu))[0])\n",
    "    \n",
    "    likelihood *= -2\n",
    "\n",
    "    if grad.size > 0:\n",
    "        derivative = [0]\n",
    "        for i in range(len(histogram)):\n",
    "            derivative[0] += histogram[i]*(gaussian(bins[i+1], mu) - gaussian(bins[i], mu))\n",
    "        derivative[0] *= 2\n",
    "        grad[:] = derivative\n",
    "\n",
    "    # print(likelihood)\n",
    "    # print(derivative)\n",
    "\n",
    "    return likelihood\n",
    "\n",
    "\n"
   ]
  },
  {
   "cell_type": "code",
   "execution_count": 127,
   "metadata": {},
   "outputs": [],
   "source": [
    "# Trying to maximize the likelihood with nlopt\n",
    "\n",
    "opt = nlopt.opt(nlopt.GN_DIRECT_L, 1)\n",
    "\n",
    "opt.set_min_objective(mn_log_likelihood)\n",
    "opt.set_lower_bounds(0)\n",
    "opt.set_upper_bounds(12)\n",
    "opt.set_ftol_rel(1e-10)\n",
    "opt.set_xtol_rel(1e-10)\n",
    "\n",
    "mu_opt = opt.optimize([5])"
   ]
  },
  {
   "cell_type": "markdown",
   "metadata": {},
   "source": [
    "### Step 5\n",
    "\n",
    "Repeat 1000 times"
   ]
  },
  {
   "cell_type": "code",
   "execution_count": 128,
   "metadata": {},
   "outputs": [],
   "source": [
    "N = 100\n",
    "\n",
    "mu_opt_total_mn = []\n",
    "bins = np.linspace(lower_bound, upper_bound, 401)\n",
    "\n",
    "for i in range(N):\n",
    "    samples = distribution_sampler.sample(N)\n",
    "\n",
    "    histogram = []\n",
    "    for i in range(1, len(bins)):\n",
    "        num = 0\n",
    "        for sample in samples:\n",
    "            if sample > bins[i-1] and sample < bins[i]:\n",
    "                num += 1\n",
    "        histogram.append(num)\n",
    "\n",
    "\n",
    "    opt = nlopt.opt(nlopt.GN_DIRECT_L, 1)\n",
    "    opt.set_min_objective(mn_log_likelihood)\n",
    "    opt.set_lower_bounds(0)\n",
    "    opt.set_upper_bounds(12)\n",
    "    opt.set_ftol_rel(1e-10)\n",
    "    opt.set_xtol_rel(1e-10)\n",
    "\n",
    "    mu_opt_total_mn.append(opt.optimize([5])[0])\n"
   ]
  },
  {
   "cell_type": "code",
   "execution_count": 129,
   "metadata": {},
   "outputs": [
    {
     "data": {
      "text/plain": [
       "(array([0.76060311, 2.09165856, 2.09165856, 4.56361867, 3.80301556,\n",
       "        2.66211089, 1.711357  , 0.57045233, 0.57045233, 0.19015078]),\n",
       " array([5.7920296 , 5.84461944, 5.89720929, 5.94979913, 6.00238898,\n",
       "        6.05497882, 6.10756867, 6.16015851, 6.21274836, 6.2653382 ,\n",
       "        6.31792805]),\n",
       " <BarContainer object of 10 artists>)"
      ]
     },
     "execution_count": 129,
     "metadata": {},
     "output_type": "execute_result"
    },
    {
     "data": {
      "image/png": "[encoded data removed]",
      "text/plain": [
       "<Figure size 432x288 with 1 Axes>"
      ]
     },
     "metadata": {
      "needs_background": "light"
     },
     "output_type": "display_data"
    }
   ],
   "source": [
    "plt.hist(mu_opt_total_mn, bins=10, density=True)"
   ]
  },
  {
   "cell_type": "code",
   "execution_count": 130,
   "metadata": {},
   "outputs": [
    {
     "name": "stdout",
     "output_type": "stream",
     "text": [
      "6.0105539885372465 0.009972350419339021\n"
     ]
    }
   ],
   "source": [
    "mu_opt_avg_mn = sum(mu_opt_total_mn)/len(mu_opt_total_mn)\n",
    "\n",
    "mu_opt_var_mn = 0\n",
    "for mu_i in mu_opt_total_mn:\n",
    "    mu_opt_var_mn += (mu_i - mu_opt_avg_mn)**2\n",
    "\n",
    "mu_opt_var_mn /= len(mu_opt_total_mn) +1\n",
    "\n",
    "print(mu_opt_avg_mn, mu_opt_var_mn)"
   ]
  },
  {
   "cell_type": "code",
   "execution_count": 131,
   "metadata": {},
   "outputs": [],
   "source": [
    "def p_log_likelihood(avg, grad):\n",
    "    mu = avg[0]\n",
    "\n",
    "    def gaussian(x, y):\n",
    "        return np.exp(-(x - y)**2)/np.sqrt(2*np.pi)\n",
    "\n",
    "    likelihood = 0\n",
    "    for i in range(len(histogram)):\n",
    "        P_i = integrate.quad(gaussian, bins[i], bins[i+1], args=(mu))[0]\n",
    "        likelihood += P_i - histogram[i]*np.log(P_i)\n",
    "    \n",
    "    likelihood *= 2\n",
    "\n",
    "    # if grad.size > 0:\n",
    "    #     derivative = [0]\n",
    "    #     for i in range(len(histogram)):\n",
    "    #         derivative[0] += histogram[i]*(gaussian(bins[i+1], mu) - gaussian(bins[i], mu))\n",
    "    #     derivative[0] *= 2\n",
    "    #     grad[:] = derivative\n",
    "\n",
    "    # print(likelihood)\n",
    "    # print(derivative)\n",
    "\n",
    "    return likelihood\n",
    "\n",
    "\n"
   ]
  },
  {
   "cell_type": "code",
   "execution_count": 132,
   "metadata": {},
   "outputs": [],
   "source": [
    "mu_opt_total_p = []\n",
    "\n",
    "for i in range(N):\n",
    "    samples = distribution_sampler.sample(N)\n",
    "\n",
    "    histogram = []\n",
    "    for i in range(1, len(bins)):\n",
    "        num = 0\n",
    "        for sample in samples:\n",
    "            if sample > bins[i-1] and sample < bins[i]:\n",
    "                num += 1\n",
    "        histogram.append(num)\n",
    "\n",
    "\n",
    "    opt = nlopt.opt(nlopt.GN_DIRECT_L, 1)\n",
    "    opt.set_min_objective(p_log_likelihood)\n",
    "    opt.set_lower_bounds(0)\n",
    "    opt.set_upper_bounds(12)\n",
    "    opt.set_ftol_rel(1e-10)\n",
    "    opt.set_xtol_rel(1e-10)\n",
    "\n",
    "    mu_opt_total_p.append(opt.optimize([5])[0])\n"
   ]
  },
  {
   "cell_type": "code",
   "execution_count": 133,
   "metadata": {},
   "outputs": [
    {
     "data": {
      "text/plain": [
       "(array([1.4558432 , 2.91168639, 3.88224852, 4.85281065, 2.66904586,\n",
       "        2.91168639, 3.15432692, 1.21320266, 0.7279216 , 0.48528107]),\n",
       " array([5.84027578, 5.88148901, 5.92270224, 5.96391547, 6.0051287 ,\n",
       "        6.04634193, 6.08755516, 6.12876839, 6.16998162, 6.21119485,\n",
       "        6.25240808]),\n",
       " <BarContainer object of 10 artists>)"
      ]
     },
     "execution_count": 133,
     "metadata": {},
     "output_type": "execute_result"
    },
    {
     "data": {
      "image/png": "[encoded data removed]",
      "text/plain": [
       "<Figure size 432x288 with 1 Axes>"
      ]
     },
     "metadata": {
      "needs_background": "light"
     },
     "output_type": "display_data"
    }
   ],
   "source": [
    "plt.hist(mu_opt_total_p, bins=10, density=True)"
   ]
  },
  {
   "cell_type": "code",
   "execution_count": 134,
   "metadata": {},
   "outputs": [
    {
     "name": "stdout",
     "output_type": "stream",
     "text": [
      "6.008973682029501 0.00782119054592757\n"
     ]
    }
   ],
   "source": [
    "mu_opt_avg_p = sum(mu_opt_total_p)/len(mu_opt_total_p)\n",
    "\n",
    "mu_opt_var_p = 0\n",
    "for mu_i in mu_opt_total_p:\n",
    "    mu_opt_var_p += (mu_i - mu_opt_avg_p)**2\n",
    "\n",
    "mu_opt_var_p /= len(mu_opt_total_p) +1\n",
    "\n",
    "print(mu_opt_avg_p, mu_opt_var_p)"
   ]
  },
  {
   "cell_type": "code",
   "execution_count": 135,
   "metadata": {},
   "outputs": [
    {
     "data": {
      "text/plain": [
       "(array([0.76060311, 2.09165856, 2.09165856, 4.56361867, 3.80301556,\n",
       "        2.66211089, 1.711357  , 0.57045233, 0.57045233, 0.19015078]),\n",
       " array([5.7920296 , 5.84461944, 5.89720929, 5.94979913, 6.00238898,\n",
       "        6.05497882, 6.10756867, 6.16015851, 6.21274836, 6.2653382 ,\n",
       "        6.31792805]),\n",
       " <BarContainer object of 10 artists>)"
      ]
     },
     "execution_count": 135,
     "metadata": {},
     "output_type": "execute_result"
    },
    {
     "data": {
      "image/png": "[encoded data removed]",
      "text/plain": [
       "<Figure size 432x288 with 1 Axes>"
      ]
     },
     "metadata": {
      "needs_background": "light"
     },
     "output_type": "display_data"
    }
   ],
   "source": [
    "plt.hist(mu_opt_total_p, bins=10, density=True)\n",
    "plt.hist(mu_opt_total_mn, bins=10, density=True)"
   ]
  },
  {
   "cell_type": "code",
   "execution_count": 136,
   "metadata": {},
   "outputs": [],
   "source": [
    "def g_log_likelihood(avg, grad):\n",
    "\n",
    "    # print(avg)\n",
    "    # print(grad)\n",
    "    mu = avg[0]\n",
    "\n",
    "    def gaussian(x, y):\n",
    "        return np.exp(-(x - y)**2)/np.sqrt(2*np.pi)\n",
    "\n",
    "    likelihood = 0\n",
    "    for i in range(len(histogram)):\n",
    "        P_i = integrate.quad(gaussian, bins[i], bins[i+1], args=(mu))[0]\n",
    "        likelihood += histogram[i]**2/P_i**2 - 2*histogram[i]/P_i\n",
    "    \n",
    "    # likelihood *= 2\n",
    "\n",
    "    # if grad.size > 0:\n",
    "    #     derivative = [0]\n",
    "    #     for i in range(len(histogram)):\n",
    "    #         derivative[0] += histogram[i]*(gaussian(bins[i+1], mu) - gaussian(bins[i], mu))\n",
    "    #     derivative[0] *= 2\n",
    "    #     grad[:] = derivative\n",
    "\n",
    "    # print(likelihood)\n",
    "    # print(derivative)\n",
    "\n",
    "    return likelihood\n",
    "\n",
    "\n"
   ]
  },
  {
   "cell_type": "code",
   "execution_count": 137,
   "metadata": {},
   "outputs": [],
   "source": [
    "mu_opt_total_g = []\n",
    "\n",
    "for i in range(N):\n",
    "    samples = distribution_sampler.sample(N)\n",
    "\n",
    "    histogram = []\n",
    "    for i in range(1, len(bins)):\n",
    "        num = 0\n",
    "        for sample in samples:\n",
    "            if sample > bins[i-1] and sample < bins[i]:\n",
    "                num += 1\n",
    "        histogram.append(num)\n",
    "\n",
    "\n",
    "    opt = nlopt.opt(nlopt.GN_DIRECT_L, 1)\n",
    "    opt.set_min_objective(p_log_likelihood)\n",
    "    opt.set_lower_bounds(0)\n",
    "    opt.set_upper_bounds(12)\n",
    "    opt.set_ftol_rel(1e-10)\n",
    "    opt.set_xtol_rel(1e-10)\n",
    "\n",
    "    mu_opt_total_g.append(opt.optimize([5])[0])\n"
   ]
  },
  {
   "cell_type": "code",
   "execution_count": 138,
   "metadata": {},
   "outputs": [
    {
     "name": "stdout",
     "output_type": "stream",
     "text": [
      "6.009116607975788 0.009505856663578173\n"
     ]
    }
   ],
   "source": [
    "mu_opt_avg_g = sum(mu_opt_total_g)/len(mu_opt_total_g)\n",
    "\n",
    "mu_opt_var_g = 0\n",
    "for mu_i in mu_opt_total_g:\n",
    "    mu_opt_var_g += (mu_i - mu_opt_avg_g)**2\n",
    "\n",
    "mu_opt_var_g /= len(mu_opt_total_g) +1\n",
    "\n",
    "print(mu_opt_avg_g, mu_opt_var_g)"
   ]
  },
  {
   "cell_type": "code",
   "execution_count": 139,
   "metadata": {},
   "outputs": [
    {
     "data": {
      "text/plain": [
       "(array([1.23836684, 2.88952262, 2.47673367, 5.98543971, 2.88952262,\n",
       "        2.47673367, 1.23836684, 0.61918342, 0.41278895, 0.41278895]),\n",
       " array([5.82452991, 5.87298082, 5.92143173, 5.96988264, 6.01833355,\n",
       "        6.06678446, 6.11523537, 6.16368628, 6.21213719, 6.2605881 ,\n",
       "        6.30903901]),\n",
       " <BarContainer object of 10 artists>)"
      ]
     },
     "execution_count": 139,
     "metadata": {},
     "output_type": "execute_result"
    },
    {
     "data": {
      "image/png": "[encoded data removed]",
      "text/plain": [
       "<Figure size 432x288 with 1 Axes>"
      ]
     },
     "metadata": {
      "needs_background": "light"
     },
     "output_type": "display_data"
    }
   ],
   "source": [
    "plt.hist(mu_opt_total_g, bins=10, density=True)"
   ]
  },
  {
   "cell_type": "code",
   "execution_count": 140,
   "metadata": {},
   "outputs": [
    {
     "name": "stdout",
     "output_type": "stream",
     "text": [
      "6.0105539885372465 0.009972350419339021\n",
      "6.008973682029501 0.00782119054592757\n",
      "6.009116607975788 0.009505856663578173\n"
     ]
    },
    {
     "data": {
      "text/plain": [
       "(array([1.23836684, 2.88952262, 2.47673367, 5.98543971, 2.88952262,\n",
       "        2.47673367, 1.23836684, 0.61918342, 0.41278895, 0.41278895]),\n",
       " array([5.82452991, 5.87298082, 5.92143173, 5.96988264, 6.01833355,\n",
       "        6.06678446, 6.11523537, 6.16368628, 6.21213719, 6.2605881 ,\n",
       "        6.30903901]),\n",
       " <BarContainer object of 10 artists>)"
      ]
     },
     "execution_count": 140,
     "metadata": {},
     "output_type": "execute_result"
    },
    {
     "data": {
      "image/png": "[encoded data removed]",
      "text/plain": [
       "<Figure size 432x288 with 1 Axes>"
      ]
     },
     "metadata": {
      "needs_background": "light"
     },
     "output_type": "display_data"
    }
   ],
   "source": [
    "print(mu_opt_avg_mn, mu_opt_var_mn)\n",
    "print(mu_opt_avg_p, mu_opt_var_p)\n",
    "print(mu_opt_avg_g, mu_opt_var_g)\n",
    "\n",
    "plt.hist(mu_opt_total_p, bins=10, density=True)\n",
    "plt.hist(mu_opt_total_mn, bins=10, density=True)\n",
    "plt.hist(mu_opt_total_g, bins=10, density=True)\n"
   ]
  },
  {
   "cell_type": "code",
   "execution_count": null,
   "metadata": {},
   "outputs": [],
   "source": []
  }
 ],
 "metadata": {
  "interpreter": {
   "hash": "31f2aee4e71d21fbe5cf8b01ff0e069b9275f58929596ceb00d14d90e3e16cd6"
  },
  "kernelspec": {
   "display_name": "Python 3.9.7 64-bit",
   "language": "python",
   "name": "python3"
  },
  "language_info": {
   "codemirror_mode": {
    "name": "ipython",
    "version": 3
   },
   "file_extension": ".py",
   "mimetype": "text/x-python",
   "name": "python",
   "nbconvert_exporter": "python",
   "pygments_lexer": "ipython3",
   "version": "3.9.7"
  },
  "orig_nbformat": 4
 },
 "nbformat": 4,
 "nbformat_minor": 2
}
